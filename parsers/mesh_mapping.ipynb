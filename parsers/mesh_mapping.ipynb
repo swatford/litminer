{
 "cells": [
  {
   "cell_type": "code",
   "execution_count": 1,
   "metadata": {
    "collapsed": true
   },
   "outputs": [],
   "source": [
    "import pandas as pd\n",
    "import pymongo\n",
    "import numpy as np\n",
    "import gzip"
   ]
  },
  {
   "cell_type": "code",
   "execution_count": 2,
   "metadata": {
    "collapsed": true
   },
   "outputs": [],
   "source": [
    "client = pymongo.MongoClient()\n",
    "db = client.swatford"
   ]
  },
  {
   "cell_type": "code",
   "execution_count": null,
   "metadata": {
    "collapsed": true
   },
   "outputs": [],
   "source": [
    "# to_insert = []\n",
    "# for i,row in enumerate(gzip.open(\"../data/MeSH/MH_items.gz\",\"r\")):\n",
    "#     r = pd.Series(row.decode(\"utf-8\").split(\"|\"))[[0,1,3]]\n",
    "#     r.index = [\"name\",\"mt\",\"pmid\"]\n",
    "#     r.pmid = int(r.pmid)\n",
    "#     to_insert.append(dict(r))\n",
    "#     if i%25000==0:\n",
    "#         db.medline.descs.mappings.tmp.insert_many(to_insert)\n",
    "#         to_insert = []\n",
    "# db.medline.descs.mappings.tmp.insert_many(to_insert)"
   ]
  },
  {
   "cell_type": "code",
   "execution_count": 6,
   "metadata": {
    "collapsed": true
   },
   "outputs": [],
   "source": [
    "descs = set(db.medline.descs.distinct(\"name\"))"
   ]
  },
  {
   "cell_type": "code",
   "execution_count": 4,
   "metadata": {
    "collapsed": true
   },
   "outputs": [],
   "source": [
    "descs_mappings = set(db.medline.descs.mappings.tmp.distinct(\"name\"))"
   ]
  },
  {
   "cell_type": "code",
   "execution_count": 9,
   "metadata": {},
   "outputs": [
    {
     "data": {
      "text/plain": [
       "(27804, 28472)"
      ]
     },
     "execution_count": 9,
     "metadata": {},
     "output_type": "execute_result"
    }
   ],
   "source": [
    "len(descs_mappings),len(descs)"
   ]
  },
  {
   "cell_type": "code",
   "execution_count": 11,
   "metadata": {},
   "outputs": [
    {
     "data": {
      "text/plain": [
       "0"
      ]
     },
     "execution_count": 11,
     "metadata": {},
     "output_type": "execute_result"
    }
   ],
   "source": [
    "len(descs_mappings-descs)"
   ]
  },
  {
   "cell_type": "code",
   "execution_count": 12,
   "metadata": {
    "collapsed": true
   },
   "outputs": [],
   "source": [
    "name_uid_map = {doc[\"name\"]:doc[\"uid\"] for doc in db.medline.descs.find()}"
   ]
  },
  {
   "cell_type": "code",
   "execution_count": null,
   "metadata": {
    "scrolled": true
   },
   "outputs": [
    {
     "name": "stdout",
     "output_type": "stream",
     "text": [
      "0\n",
      "70000\n",
      "140000\n",
      "210000\n",
      "280000\n",
      "350000\n",
      "420000\n",
      "490000\n",
      "560000\n",
      "630000\n",
      "700000\n",
      "770000\n",
      "840000\n",
      "910000\n",
      "980000\n",
      "1050000\n",
      "1120000\n",
      "1190000\n",
      "1260000\n",
      "1330000\n",
      "1400000\n",
      "1470000\n",
      "1540000\n",
      "1610000\n",
      "1680000\n",
      "1750000\n",
      "1820000\n",
      "1890000\n",
      "1960000\n",
      "2030000\n",
      "2100000\n",
      "2170000\n",
      "2240000\n",
      "2310000\n",
      "2380000\n",
      "2450000\n",
      "2520000\n",
      "2590000\n",
      "2660000\n",
      "2730000\n",
      "2800000\n",
      "2870000\n",
      "2940000\n",
      "3010000\n",
      "3080000\n",
      "3150000\n",
      "3220000\n"
     ]
    }
   ],
   "source": [
    "for i,doc in enumerate(db.medline.descs.mappings.tmp.find()):\n",
    "    db.medline.descs.mappings.tmp.update_one({\"_id\":doc[\"_id\"]},{\"$set\":{\"uid\":name_uid_map[doc[\"name\"]]}})\n",
    "    if i%70000==0:\n",
    "        print(i)"
   ]
  },
  {
   "cell_type": "code",
   "execution_count": null,
   "metadata": {
    "collapsed": true
   },
   "outputs": [],
   "source": []
  }
 ],
 "metadata": {
  "kernelspec": {
   "display_name": "Python 3",
   "language": "python",
   "name": "python3"
  },
  "language_info": {
   "codemirror_mode": {
    "name": "ipython",
    "version": 3
   },
   "file_extension": ".py",
   "mimetype": "text/x-python",
   "name": "python",
   "nbconvert_exporter": "python",
   "pygments_lexer": "ipython3",
   "version": "3.6.0"
  }
 },
 "nbformat": 4,
 "nbformat_minor": 2
}
