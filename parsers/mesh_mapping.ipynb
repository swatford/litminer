{
 "cells": [
  {
   "cell_type": "code",
   "execution_count": 1,
   "metadata": {
    "collapsed": true
   },
   "outputs": [],
   "source": [
    "import pandas as pd\n",
    "import pymongo\n",
    "import numpy as np\n",
    "import gzip"
   ]
  },
  {
   "cell_type": "code",
   "execution_count": 2,
   "metadata": {
    "collapsed": true
   },
   "outputs": [],
   "source": [
    "client = pymongo.MongoClient()\n",
    "db = client.swatford"
   ]
  },
  {
   "cell_type": "code",
   "execution_count": null,
   "metadata": {},
   "outputs": [],
   "source": [
    "names = set()\n",
    "pmids = set()\n",
    "to_insert = []\n",
    "for i,row in enumerate(gzip.open(\"../data/MeSH/MH_items.gz\",\"r\")):\n",
    "    r = pd.Series(row.decode(\"utf-8\").split(\"|\"))[[0,1,3]]\n",
    "    r.index = [\"name\",\"mt\",\"pmid\"]\n",
    "    r.pmid = int(r.pmid)\n",
    "    to_insert.append(dict(r))\n",
    "    if i%25000==0:\n",
    "        db.medline.descs.mappings.tmp.insert_many(to_insert)\n",
    "        to_insert = []\n",
    "db.medline.descs.mappings.tmp.insert_many(to_insert)\n",
    "#     names.add(r.name)\n",
    "#     pmids.add(r.pmid)\n",
    "#     print(dict(r))"
   ]
  },
  {
   "cell_type": "code",
   "execution_count": null,
   "metadata": {},
   "outputs": [],
   "source": [
    "len(names),len(pmids)"
   ]
  },
  {
   "cell_type": "code",
   "execution_count": null,
   "metadata": {
    "collapsed": true
   },
   "outputs": [],
   "source": []
  }
 ],
 "metadata": {
  "kernelspec": {
   "display_name": "Python 3",
   "language": "python",
   "name": "python3"
  },
  "language_info": {
   "codemirror_mode": {
    "name": "ipython",
    "version": 3
   },
   "file_extension": ".py",
   "mimetype": "text/x-python",
   "name": "python",
   "nbconvert_exporter": "python",
   "pygments_lexer": "ipython3",
   "version": "3.6.0"
  }
 },
 "nbformat": 4,
 "nbformat_minor": 2
}
