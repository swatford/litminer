{
 "cells": [
  {
   "cell_type": "code",
   "execution_count": 1,
   "metadata": {
    "collapsed": true
   },
   "outputs": [],
   "source": [
    "import pandas as pd\n",
    "import pymongo\n",
    "import numpy as np"
   ]
  },
  {
   "cell_type": "code",
   "execution_count": 2,
   "metadata": {
    "collapsed": true
   },
   "outputs": [],
   "source": [
    "%run ../scripts/mongo_connect.py\n",
    "client = mongo_connect()\n",
    "db = client.swatford"
   ]
  },
  {
   "cell_type": "code",
   "execution_count": 4,
   "metadata": {},
   "outputs": [],
   "source": [
    "ctd = pd.read_table(\"../data/CTD/CTD_chem_gene_ixns.tsv\",\n",
    "              comment=\"#\",header=None,names=[\"chem_name\",\n",
    "                                             \"chem_id\",\n",
    "                                             \"casrn\",\n",
    "                                             \"gene_symbol\",\n",
    "                                             \"gene_id\",\n",
    "                                             \"gene_forms\",\"organism\",\"tax_id\",\"ixn\",\"ixn_axn\",\"pmid\"])"
   ]
  },
  {
   "cell_type": "code",
   "execution_count": 5,
   "metadata": {
    "collapsed": true
   },
   "outputs": [],
   "source": [
    "ctd = ctd[[\"gene_id\",\"tax_id\",\"pmid\"]].copy()"
   ]
  },
  {
   "cell_type": "code",
   "execution_count": 6,
   "metadata": {
    "collapsed": true
   },
   "outputs": [],
   "source": [
    "data = {\"gene_id\":[],\"tax_id\":[],\"pmid\":[]}"
   ]
  },
  {
   "cell_type": "code",
   "execution_count": 7,
   "metadata": {
    "collapsed": true
   },
   "outputs": [],
   "source": [
    "for row in ctd.itertuples():\n",
    "    pmids = [int(x) for x in row.pmid.split(\"|\")]\n",
    "    data[\"gene_id\"] += [int(row.gene_id)]*len(pmids)\n",
    "    data[\"tax_id\"] += [int(row.tax_id)]*len(pmids) if not np.isnan(row.tax_id) else [None]*len(pmids)\n",
    "    data[\"pmid\"] += pmids"
   ]
  },
  {
   "cell_type": "code",
   "execution_count": 8,
   "metadata": {},
   "outputs": [
    {
     "data": {
      "text/plain": [
       "<pymongo.results.InsertManyResult at 0x24ad95df750>"
      ]
     },
     "execution_count": 8,
     "metadata": {},
     "output_type": "execute_result"
    }
   ],
   "source": [
    "to_insert = []\n",
    "for i,row in pd.DataFrame(data).drop_duplicates().iterrows():\n",
    "    r = dict(row)\n",
    "    for k,v in dict(row).items():\n",
    "        if np.isnan(v):\n",
    "            del r[k]\n",
    "    to_insert.append(r)\n",
    "    if i%25000==0:\n",
    "        db.ctd.insert_many(to_insert)\n",
    "        to_insert=[]\n",
    "db.ctd.insert_many(to_insert)"
   ]
  },
  {
   "cell_type": "code",
   "execution_count": null,
   "metadata": {
    "collapsed": true
   },
   "outputs": [],
   "source": []
  }
 ],
 "metadata": {
  "kernelspec": {
   "display_name": "Python 3",
   "language": "python",
   "name": "python3"
  },
  "language_info": {
   "codemirror_mode": {
    "name": "ipython",
    "version": 3
   },
   "file_extension": ".py",
   "mimetype": "text/x-python",
   "name": "python",
   "nbconvert_exporter": "python",
   "pygments_lexer": "ipython3",
   "version": "3.6.1"
  }
 },
 "nbformat": 4,
 "nbformat_minor": 2
}
