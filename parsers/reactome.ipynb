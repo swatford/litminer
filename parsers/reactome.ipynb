{
 "cells": [
  {
   "cell_type": "code",
   "execution_count": 1,
   "metadata": {
    "collapsed": true
   },
   "outputs": [],
   "source": [
    "import pandas as pd\n",
    "import pymongo\n",
    "import numpy as np\n",
    "import py2neo as pn"
   ]
  },
  {
   "cell_type": "code",
   "execution_count": 8,
   "metadata": {
    "collapsed": true
   },
   "outputs": [],
   "source": [
    "%run ../scripts/mongo_connect.py\n",
    "client = mongo_connect()\n",
    "db = client.swatford"
   ]
  },
  {
   "cell_type": "markdown",
   "metadata": {},
   "source": [
    "You must download Neo4j and the Reactome graph database. The Reactome graph distribution is downloaded to data/Reactome directory. Reactome provides instructions on how to set up a local neo4j database. \n",
    "\n",
    "Any non-numeric identifer is excluded under the assumption it is not an Entrez GeneID."
   ]
  },
  {
   "cell_type": "code",
   "execution_count": 2,
   "metadata": {
    "collapsed": true
   },
   "outputs": [],
   "source": [
    "g = pn.Graph(password=\"pass\")"
   ]
  },
  {
   "cell_type": "code",
   "execution_count": 4,
   "metadata": {
    "collapsed": true
   },
   "outputs": [],
   "source": [
    "reactome = pd.DataFrame(g.data(\"\"\"MATCH (rd:ReferenceDatabase)<--(n),\n",
    "      (n)<-[:referenceEntity|referenceSequence|crossReference|referenceGene*]-(pe:PhysicalEntity),\n",
    "      (pe)<-[:input|output|catalystActivity|physicalEntity|regulatedBy|regulator|hasComponent|hasMember|hasCandidate|repeatedUnit*]-(rle:ReactionLikeEvent)\n",
    "WHERE rd.displayName =~ \"NCBI.*\"\n",
    "WITH n, COLLECT(DISTINCT rle) AS rles //At this point we need to narrow down the found RLES by taking each one only once and then\n",
    "UNWIND rles AS rle                    //unwind the list to start the second part with fewer nodes in order to improve performance\n",
    "MATCH (lr:LiteratureReference)<-[:literatureReference]-(rle)<-[:hasEvent*]-(p:Pathway)\n",
    "WITH n, rle, p, COLLECT(lr.pubMedIdentifier) AS PMIDs\n",
    "RETURN DISTINCT n.identifier AS Identifier,\n",
    "                p.stId AS Pathway_ID,\n",
    "                p.displayName as Pathway_Name,\n",
    "                PMIDs,\n",
    "                rle.isInferred AS Evidence_Code,\n",
    "                p.speciesName as Species\n",
    "ORDER BY Identifier, Pathway_ID\"\"\"))"
   ]
  },
  {
   "cell_type": "code",
   "execution_count": 14,
   "metadata": {
    "collapsed": true
   },
   "outputs": [],
   "source": [
    "data = {\"gene_id\":[],\"acc\":[],\"pmid\":[]}"
   ]
  },
  {
   "cell_type": "code",
   "execution_count": 15,
   "metadata": {
    "collapsed": true
   },
   "outputs": [],
   "source": [
    "for tup in reactome[[\"Identifier\",\"PMIDs\",\"Pathway_ID\"]].itertuples():\n",
    "    pmids = tup.PMIDs\n",
    "    data[\"acc\"]+=[tup.Pathway_ID]*len(pmids)\n",
    "    data[\"gene_id\"]+=[tup.Identifier]*len(pmids)\n",
    "    data[\"pmid\"]+=pmids"
   ]
  },
  {
   "cell_type": "code",
   "execution_count": 17,
   "metadata": {
    "collapsed": true
   },
   "outputs": [],
   "source": [
    "data = pd.DataFrame(data)"
   ]
  },
  {
   "cell_type": "code",
   "execution_count": 19,
   "metadata": {
    "collapsed": true
   },
   "outputs": [],
   "source": [
    "data = data[data.gene_id.str.isnumeric()].copy()"
   ]
  },
  {
   "cell_type": "code",
   "execution_count": 20,
   "metadata": {
    "collapsed": true
   },
   "outputs": [],
   "source": [
    "data.gene_id = data.gene_id.astype(int)"
   ]
  },
  {
   "cell_type": "code",
   "execution_count": 23,
   "metadata": {},
   "outputs": [
    {
     "data": {
      "text/plain": [
       "<pymongo.results.InsertManyResult at 0x16497b41480>"
      ]
     },
     "execution_count": 23,
     "metadata": {},
     "output_type": "execute_result"
    }
   ],
   "source": [
    "to_insert = []\n",
    "for i,row in data.iterrows():\n",
    "    to_insert.append(dict(row))\n",
    "    if i%25000==0:\n",
    "        db.reactome.insert_many(to_insert)\n",
    "        to_insert = []\n",
    "db.reactome.insert_many(to_insert)"
   ]
  },
  {
   "cell_type": "code",
   "execution_count": null,
   "metadata": {
    "collapsed": true
   },
   "outputs": [],
   "source": []
  }
 ],
 "metadata": {
  "kernelspec": {
   "display_name": "Python 3",
   "language": "python",
   "name": "python3"
  },
  "language_info": {
   "codemirror_mode": {
    "name": "ipython",
    "version": 3
   },
   "file_extension": ".py",
   "mimetype": "text/x-python",
   "name": "python",
   "nbconvert_exporter": "python",
   "pygments_lexer": "ipython3",
   "version": "3.6.1"
  }
 },
 "nbformat": 4,
 "nbformat_minor": 2
}
