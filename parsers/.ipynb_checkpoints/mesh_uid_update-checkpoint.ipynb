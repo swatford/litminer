{
 "cells": [
  {
   "cell_type": "code",
   "execution_count": 1,
   "metadata": {
    "collapsed": true
   },
   "outputs": [],
   "source": [
    "import pandas as pd\n",
    "import numpy as np\n",
    "import gzip"
   ]
  },
  {
   "cell_type": "code",
   "execution_count": 2,
   "metadata": {
    "collapsed": true
   },
   "outputs": [],
   "source": [
    "%run ../scripts/mongo_connect.py\n",
    "client = mongo_connect()\n",
    "db = client.swatford"
   ]
  },
  {
   "cell_type": "code",
   "execution_count": 3,
   "metadata": {},
   "outputs": [
    {
     "data": {
      "text/plain": [
       "<pymongo.results.InsertManyResult at 0x29936f58e58>"
      ]
     },
     "execution_count": 3,
     "metadata": {},
     "output_type": "execute_result"
    }
   ],
   "source": [
    "# to_insert = []\n",
    "# for i,row in enumerate(gzip.open(\"../data/MeSH/MH_items.gz\",\"r\")):\n",
    "#     r = pd.Series(row.decode(\"utf-8\").split(\"|\"))[[0,1,3]]\n",
    "#     r.index = [\"name\",\"mt\",\"pmid\"]\n",
    "#     r.pmid = int(r.pmid)\n",
    "#     to_insert.append(dict(r))\n",
    "#     if i%25000==0:\n",
    "#         db.medline.descs.mappings.tmp.insert_many(to_insert)\n",
    "#         to_insert = []\n",
    "# db.medline.descs.mappings.tmp.insert_many(to_insert)"
   ]
  },
  {
   "cell_type": "code",
   "execution_count": 4,
   "metadata": {
    "collapsed": true
   },
   "outputs": [],
   "source": [
    "descs = set(db.medline.descs.distinct(\"name\"))"
   ]
  },
  {
   "cell_type": "code",
   "execution_count": null,
   "metadata": {
    "collapsed": true
   },
   "outputs": [],
   "source": [
    "descs_mappings = set(db.medline.descs.mappings.tmp.distinct(\"name\"))"
   ]
  },
  {
   "cell_type": "code",
   "execution_count": null,
   "metadata": {},
   "outputs": [],
   "source": [
    "len(descs_mappings),len(descs)"
   ]
  },
  {
   "cell_type": "code",
   "execution_count": null,
   "metadata": {},
   "outputs": [],
   "source": [
    "len(descs_mappings-descs)"
   ]
  },
  {
   "cell_type": "code",
   "execution_count": null,
   "metadata": {
    "collapsed": true
   },
   "outputs": [],
   "source": [
    "name_uid_map = {doc[\"name\"]:doc[\"uid\"] for doc in db.medline.descs.find()}"
   ]
  },
  {
   "cell_type": "code",
   "execution_count": null,
   "metadata": {
    "scrolled": true
   },
   "outputs": [],
   "source": [
    "for i,doc in enumerate(db.medline.descs.mappings.tmp.find()):\n",
    "    db.medline.descs.mappings.tmp.update_one({\"_id\":doc[\"_id\"]},{\"$set\":{\"uid\":name_uid_map[doc[\"name\"]]}})\n",
    "    if i%70000==0:\n",
    "        print(i)"
   ]
  },
  {
   "cell_type": "code",
   "execution_count": null,
   "metadata": {
    "collapsed": true
   },
   "outputs": [],
   "source": []
  }
 ],
 "metadata": {
  "kernelspec": {
   "display_name": "Python 3",
   "language": "python",
   "name": "python3"
  },
  "language_info": {
   "codemirror_mode": {
    "name": "ipython",
    "version": 3
   },
   "file_extension": ".py",
   "mimetype": "text/x-python",
   "name": "python",
   "nbconvert_exporter": "python",
   "pygments_lexer": "ipython3",
   "version": "3.6.1"
  }
 },
 "nbformat": 4,
 "nbformat_minor": 2
}
