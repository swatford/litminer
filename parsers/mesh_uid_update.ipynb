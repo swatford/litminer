{
 "cells": [
  {
   "cell_type": "code",
   "execution_count": 1,
   "metadata": {
    "collapsed": true
   },
   "outputs": [],
   "source": [
    "import pandas as pd\n",
    "import numpy as np\n",
    "import gzip"
   ]
  },
  {
   "cell_type": "code",
   "execution_count": 2,
   "metadata": {
    "collapsed": true
   },
   "outputs": [],
   "source": [
    "%run ../scripts/mongo_connect.py\n",
    "client = mongo_connect()\n",
    "db = client.swatford"
   ]
  },
  {
   "cell_type": "code",
   "execution_count": null,
   "metadata": {},
   "outputs": [],
   "source": [
    "# to_insert = []\n",
    "# for i,row in enumerate(gzip.open(\"../data/MeSH/MH_items.gz\",\"r\")):\n",
    "#     r = pd.Series(row.decode(\"utf-8\").split(\"|\"))[[0,1,3]]\n",
    "#     r.index = [\"name\",\"mt\",\"pmid\"]\n",
    "#     r.pmid = int(r.pmid)\n",
    "#     to_insert.append(dict(r))\n",
    "#     if i%25000==0:\n",
    "#         db.medline.descs.mappings.tmp.insert_many(to_insert)\n",
    "#         to_insert = []\n",
    "# db.medline.descs.mappings.tmp.insert_many(to_insert)"
   ]
  },
  {
   "cell_type": "code",
   "execution_count": 3,
   "metadata": {
    "collapsed": true
   },
   "outputs": [],
   "source": [
    "descs = set(db.medline.descs.distinct(\"name\"))"
   ]
  },
  {
   "cell_type": "code",
   "execution_count": 4,
   "metadata": {
    "collapsed": true
   },
   "outputs": [],
   "source": [
    "descs_mappings = set(db.medline.descs.mappings.tmp.distinct(\"name\"))"
   ]
  },
  {
   "cell_type": "code",
   "execution_count": 5,
   "metadata": {},
   "outputs": [
    {
     "data": {
      "text/plain": [
       "(27804, 28939)"
      ]
     },
     "execution_count": 5,
     "metadata": {},
     "output_type": "execute_result"
    }
   ],
   "source": [
    "len(descs_mappings),len(descs)"
   ]
  },
  {
   "cell_type": "code",
   "execution_count": 6,
   "metadata": {},
   "outputs": [
    {
     "data": {
      "text/plain": [
       "108"
      ]
     },
     "execution_count": 6,
     "metadata": {},
     "output_type": "execute_result"
    }
   ],
   "source": [
    "len(descs_mappings-descs)"
   ]
  },
  {
   "cell_type": "code",
   "execution_count": 9,
   "metadata": {},
   "outputs": [
    {
     "data": {
      "text/plain": [
       "{'6-Mercaptopurine',\n",
       " 'Advanced Glycosylation End Product-Specific Receptor',\n",
       " 'Alismatidae',\n",
       " 'Angiosperms',\n",
       " 'Anopheles gambiae',\n",
       " 'Antigen Peptide Transporter-1',\n",
       " 'Antigen Peptide Transporter-2',\n",
       " 'Antigens, CD11',\n",
       " 'Antigens, CD11a',\n",
       " 'Antigens, CD11b',\n",
       " 'Antigens, CD11c',\n",
       " 'Antigens, CD13',\n",
       " 'Antigens, CD137',\n",
       " 'Antigens, CD14',\n",
       " 'Antigens, CD146',\n",
       " 'Antigens, CD147',\n",
       " 'Antigens, CD15',\n",
       " 'Antigens, CD151',\n",
       " 'Antigens, CD164',\n",
       " 'Antigens, CD18',\n",
       " 'Antigens, CD2',\n",
       " 'Antigens, CD24',\n",
       " 'Antigens, CD27',\n",
       " 'Antigens, CD274',\n",
       " 'Antigens, CD28',\n",
       " 'Antigens, CD29',\n",
       " 'Antigens, CD3',\n",
       " 'Antigens, CD30',\n",
       " 'Antigens, CD31',\n",
       " 'Antigens, CD36',\n",
       " 'Antigens, CD38',\n",
       " 'Antigens, CD4',\n",
       " 'Antigens, CD40',\n",
       " 'Antigens, CD43',\n",
       " 'Antigens, CD44',\n",
       " 'Antigens, CD45',\n",
       " 'Antigens, CD46',\n",
       " 'Antigens, CD47',\n",
       " 'Antigens, CD5',\n",
       " 'Antigens, CD53',\n",
       " 'Antigens, CD55',\n",
       " 'Antigens, CD56',\n",
       " 'Antigens, CD57',\n",
       " 'Antigens, CD58',\n",
       " 'Antigens, CD59',\n",
       " 'Antigens, CD63',\n",
       " 'Antigens, CD70',\n",
       " 'Antigens, CD79',\n",
       " 'Antigens, CD8',\n",
       " 'Antigens, CD80',\n",
       " 'Antigens, CD81',\n",
       " 'Antigens, CD82',\n",
       " 'Antigens, CD86',\n",
       " 'Antigens, CD9',\n",
       " 'Antigens, CD95',\n",
       " 'Antigens, CD98',\n",
       " 'Antigens, CD98 Heavy Chain',\n",
       " 'Antigens, CD98 Light Chains',\n",
       " 'Antigens, CD99',\n",
       " 'Antigens, Thy-1',\n",
       " 'Architecture as Topic',\n",
       " 'Beetles',\n",
       " 'Bias (Epidemiology)',\n",
       " 'Cape Verde',\n",
       " 'Cecropiaceae',\n",
       " 'Cell Aging',\n",
       " 'Cell Phones',\n",
       " 'Cobra Venoms',\n",
       " 'Comoviridae',\n",
       " 'Cycadophyta',\n",
       " 'DNA (Cytosine-5-)-Methyltransferase',\n",
       " 'Dictionaries, Classical',\n",
       " 'Dictionaries, Dental',\n",
       " 'Dictionaries, Pharmaceutic',\n",
       " 'Dictionaries, Polyglot',\n",
       " 'Dissertations, Academic as Topic',\n",
       " 'Drug-Induced Liver Injury, Chronic',\n",
       " 'Electronic Cigarettes',\n",
       " 'Fluticasone Propionate, Salmeterol Xinafoate Drug Combination',\n",
       " 'Formularies, Dental',\n",
       " 'Giant Lymph Node Hyperplasia',\n",
       " 'Glycosylation End Products, Advanced',\n",
       " 'Gymnosperms',\n",
       " 'Hemocyanin',\n",
       " 'Hemoglobin A, Glycosylated',\n",
       " 'Heterozygote Detection',\n",
       " 'Human Engineering',\n",
       " 'Hydrogel',\n",
       " 'Insects',\n",
       " 'Ketogenic Diet',\n",
       " 'Manuscripts, Medical',\n",
       " 'Medicine in Art',\n",
       " 'Metabolic Syndrome X',\n",
       " 'Metrizoate',\n",
       " 'Motion Pictures as Topic',\n",
       " 'NADPH Oxidase',\n",
       " 'National Institute of Neurological Disorders and Stroke',\n",
       " 'P-Glycoprotein',\n",
       " 'P-Glycoproteins',\n",
       " 'Pinnipedia',\n",
       " 'Pseudocholinesterase',\n",
       " 'Secernentea',\n",
       " 'Sodium-Hydrogen Antiporter',\n",
       " 'Sphincterotomy, Transhepatic',\n",
       " 'Sublimation',\n",
       " 'Theales',\n",
       " 'Tracheobionta',\n",
       " 'Vetiveria'}"
      ]
     },
     "execution_count": 9,
     "metadata": {},
     "output_type": "execute_result"
    }
   ],
   "source": [
    "descs_mappings-descs"
   ]
  },
  {
   "cell_type": "code",
   "execution_count": 7,
   "metadata": {
    "collapsed": true
   },
   "outputs": [],
   "source": [
    "name_uid_map = {doc[\"name\"]:doc[\"uid\"] for doc in db.medline.descs.find()}"
   ]
  },
  {
   "cell_type": "code",
   "execution_count": 8,
   "metadata": {
    "scrolled": true
   },
   "outputs": [
    {
     "name": "stdout",
     "output_type": "stream",
     "text": [
      "0\n"
     ]
    },
    {
     "ename": "KeyError",
     "evalue": "'Insects'",
     "output_type": "error",
     "traceback": [
      "\u001b[1;31m---------------------------------------------------------------------------\u001b[0m",
      "\u001b[1;31mKeyError\u001b[0m                                  Traceback (most recent call last)",
      "\u001b[1;32m<ipython-input-8-0b2a20f88e93>\u001b[0m in \u001b[0;36m<module>\u001b[1;34m()\u001b[0m\n\u001b[0;32m      1\u001b[0m \u001b[1;32mfor\u001b[0m \u001b[0mi\u001b[0m\u001b[1;33m,\u001b[0m\u001b[0mdoc\u001b[0m \u001b[1;32min\u001b[0m \u001b[0menumerate\u001b[0m\u001b[1;33m(\u001b[0m\u001b[0mdb\u001b[0m\u001b[1;33m.\u001b[0m\u001b[0mmedline\u001b[0m\u001b[1;33m.\u001b[0m\u001b[0mdescs\u001b[0m\u001b[1;33m.\u001b[0m\u001b[0mmappings\u001b[0m\u001b[1;33m.\u001b[0m\u001b[0mtmp\u001b[0m\u001b[1;33m.\u001b[0m\u001b[0mfind\u001b[0m\u001b[1;33m(\u001b[0m\u001b[1;33m)\u001b[0m\u001b[1;33m)\u001b[0m\u001b[1;33m:\u001b[0m\u001b[1;33m\u001b[0m\u001b[0m\n\u001b[1;32m----> 2\u001b[1;33m     \u001b[0mdb\u001b[0m\u001b[1;33m.\u001b[0m\u001b[0mmedline\u001b[0m\u001b[1;33m.\u001b[0m\u001b[0mdescs\u001b[0m\u001b[1;33m.\u001b[0m\u001b[0mmappings\u001b[0m\u001b[1;33m.\u001b[0m\u001b[0mtmp\u001b[0m\u001b[1;33m.\u001b[0m\u001b[0mupdate_one\u001b[0m\u001b[1;33m(\u001b[0m\u001b[1;33m{\u001b[0m\u001b[1;34m\"_id\"\u001b[0m\u001b[1;33m:\u001b[0m\u001b[0mdoc\u001b[0m\u001b[1;33m[\u001b[0m\u001b[1;34m\"_id\"\u001b[0m\u001b[1;33m]\u001b[0m\u001b[1;33m}\u001b[0m\u001b[1;33m,\u001b[0m\u001b[1;33m{\u001b[0m\u001b[1;34m\"$set\"\u001b[0m\u001b[1;33m:\u001b[0m\u001b[1;33m{\u001b[0m\u001b[1;34m\"uid\"\u001b[0m\u001b[1;33m:\u001b[0m\u001b[0mname_uid_map\u001b[0m\u001b[1;33m[\u001b[0m\u001b[0mdoc\u001b[0m\u001b[1;33m[\u001b[0m\u001b[1;34m\"name\"\u001b[0m\u001b[1;33m]\u001b[0m\u001b[1;33m]\u001b[0m\u001b[1;33m}\u001b[0m\u001b[1;33m}\u001b[0m\u001b[1;33m)\u001b[0m\u001b[1;33m\u001b[0m\u001b[0m\n\u001b[0m\u001b[0;32m      3\u001b[0m     \u001b[1;32mif\u001b[0m \u001b[0mi\u001b[0m\u001b[1;33m%\u001b[0m\u001b[1;36m70000\u001b[0m\u001b[1;33m==\u001b[0m\u001b[1;36m0\u001b[0m\u001b[1;33m:\u001b[0m\u001b[1;33m\u001b[0m\u001b[0m\n\u001b[0;32m      4\u001b[0m         \u001b[0mprint\u001b[0m\u001b[1;33m(\u001b[0m\u001b[0mi\u001b[0m\u001b[1;33m)\u001b[0m\u001b[1;33m\u001b[0m\u001b[0m\n",
      "\u001b[1;31mKeyError\u001b[0m: 'Insects'"
     ]
    }
   ],
   "source": [
    "for i,doc in enumerate(db.medline.descs.mappings.tmp.find()):\n",
    "    db.medline.descs.mappings.tmp.update_one({\"_id\":doc[\"_id\"]},{\"$set\":{\"uid\":name_uid_map[doc[\"name\"]]}})\n",
    "    if i%70000==0:\n",
    "        print(i)"
   ]
  },
  {
   "cell_type": "code",
   "execution_count": null,
   "metadata": {
    "collapsed": true
   },
   "outputs": [],
   "source": []
  }
 ],
 "metadata": {
  "kernelspec": {
   "display_name": "Python 3",
   "language": "python",
   "name": "python3"
  },
  "language_info": {
   "codemirror_mode": {
    "name": "ipython",
    "version": 3
   },
   "file_extension": ".py",
   "mimetype": "text/x-python",
   "name": "python",
   "nbconvert_exporter": "python",
   "pygments_lexer": "ipython3",
   "version": "3.6.1"
  }
 },
 "nbformat": 4,
 "nbformat_minor": 2
}
