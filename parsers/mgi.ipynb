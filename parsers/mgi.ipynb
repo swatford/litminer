{
 "cells": [
  {
   "cell_type": "code",
   "execution_count": 1,
   "metadata": {
    "collapsed": true
   },
   "outputs": [],
   "source": [
    "import pandas as pd\n",
    "import pymongo\n",
    "import numpy as np"
   ]
  },
  {
   "cell_type": "code",
   "execution_count": 2,
   "metadata": {
    "collapsed": true
   },
   "outputs": [],
   "source": [
    "%run ../scripts/mongo_connect.py\n",
    "client = mongo_connect()\n",
    "db = client.swatford"
   ]
  },
  {
   "cell_type": "code",
   "execution_count": 3,
   "metadata": {
    "collapsed": true
   },
   "outputs": [],
   "source": [
    "mrk_ref = pd.read_table(\"../data/MGI/MRK_Reference.rpt\",header=None,names=[\"mgi_marker_acc_id\",\n",
    "                                                                           \"marker_symbol\",\n",
    "                                                                           \"marker_name\",\n",
    "                                                                           \"marker_syns\",\n",
    "                                                                           \"pmid\"])"
   ]
  },
  {
   "cell_type": "code",
   "execution_count": 4,
   "metadata": {
    "collapsed": true
   },
   "outputs": [],
   "source": [
    "ref_data = {\"acc\":[],\"pmid\":[]}"
   ]
  },
  {
   "cell_type": "code",
   "execution_count": 5,
   "metadata": {
    "collapsed": true
   },
   "outputs": [],
   "source": [
    "for tup in mrk_ref[[\"mgi_marker_acc_id\",\"pmid\"]].itertuples():\n",
    "    pmids = [int(x) for x in tup.pmid.split(\"|\")]\n",
    "    ref_data[\"acc\"]+=[tup.mgi_marker_acc_id]*len(pmids)\n",
    "    ref_data[\"pmid\"]+=pmids\n",
    "#     print([tup.mgi_marker_acc_id]*len(pmids),pmids)"
   ]
  },
  {
   "cell_type": "code",
   "execution_count": 6,
   "metadata": {},
   "outputs": [
    {
     "name": "stderr",
     "output_type": "stream",
     "text": [
      "C:\\Users\\SWatford\\AppData\\Local\\Continuum\\Anaconda3\\lib\\site-packages\\IPython\\core\\interactiveshell.py:2717: DtypeWarning: Columns (5,7,14) have mixed types. Specify dtype option on import or set low_memory=False.\n",
      "  interactivity=interactivity, compiler=compiler, result=result)\n"
     ]
    }
   ],
   "source": [
    "mrk_gene = pd.read_table(\"../data/MGI/MGI_EntrezGene.rpt\",header=None,names=[\"mgi_marker_acc_id\",\n",
    "                                                                             \"marker_symbol\",\n",
    "                                                                             \"status\",\n",
    "                                                                             \"marker_name\",\n",
    "                                                                             \"cm_pos\",\n",
    "                                                                             \"chromosome\",\n",
    "                                                                             \"type\",\n",
    "                                                                             \"sec_acc\",\n",
    "                                                                             \"gene_id\",\n",
    "                                                                             \"syns\",\n",
    "                                                                             \"feature_type\",\n",
    "                                                                             \"genome_coord_start\",\n",
    "                                                                             \"genome_coord_end\",\n",
    "                                                                             \"strand\",\n",
    "                                                                             \"biotype\"])"
   ]
  },
  {
   "cell_type": "code",
   "execution_count": 7,
   "metadata": {
    "collapsed": true,
    "scrolled": true
   },
   "outputs": [],
   "source": [
    "gene_pmid = mrk_gene[mrk_gene.gene_id.isnull()==False][[\"mgi_marker_acc_id\",\n",
    "                                            \"gene_id\"]].merge(pd.DataFrame(ref_data),\n",
    "                                                              how=\"inner\",\n",
    "                                                              left_on=\"mgi_marker_acc_id\",\n",
    "                                                              right_on=\"acc\"\n",
    "                                                             )"
   ]
  },
  {
   "cell_type": "code",
   "execution_count": 8,
   "metadata": {},
   "outputs": [
    {
     "data": {
      "text/plain": [
       "<pymongo.results.InsertManyResult at 0x1de85054cf0>"
      ]
     },
     "execution_count": 8,
     "metadata": {},
     "output_type": "execute_result"
    }
   ],
   "source": [
    "to_insert = []\n",
    "for i,row in gene_pmid[[\"gene_id\",\"acc\",\"pmid\"]].iterrows():\n",
    "    to_insert.append(dict(row))\n",
    "    if i%25000==0:\n",
    "        db.mgi.insert_many(to_insert)\n",
    "        to_insert=[]\n",
    "db.mgi.insert_many(to_insert)"
   ]
  },
  {
   "cell_type": "code",
   "execution_count": null,
   "metadata": {
    "collapsed": true
   },
   "outputs": [],
   "source": []
  }
 ],
 "metadata": {
  "kernelspec": {
   "display_name": "Python 3",
   "language": "python",
   "name": "python3"
  },
  "language_info": {
   "codemirror_mode": {
    "name": "ipython",
    "version": 3
   },
   "file_extension": ".py",
   "mimetype": "text/x-python",
   "name": "python",
   "nbconvert_exporter": "python",
   "pygments_lexer": "ipython3",
   "version": "3.6.1"
  }
 },
 "nbformat": 4,
 "nbformat_minor": 2
}
