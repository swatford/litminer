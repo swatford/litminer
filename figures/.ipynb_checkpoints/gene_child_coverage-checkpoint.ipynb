{
 "cells": [
  {
   "cell_type": "code",
   "execution_count": 1,
   "metadata": {
    "collapsed": true
   },
   "outputs": [],
   "source": [
    "import pandas as pd\n",
    "import matplotlib.pyplot as plt\n",
    "import matplotlib\n",
    "import seaborn as sns\n",
    "import pymongo\n",
    "\n",
    "\n",
    "%matplotlib inline\n",
    "matplotlib.rcParams[\"figure.figsize\"] = (20.0, 20.0)\n",
    "matplotlib.rcParams[\"font.size\"] = 26\n",
    "matplotlib.rcParams[\"axes.grid\"] = True\n",
    "matplotlib.rcParams[\"axes.facecolor\"] = (0.97,0.97,0.97)"
   ]
  },
  {
   "cell_type": "code",
   "execution_count": 2,
   "metadata": {
    "collapsed": true
   },
   "outputs": [],
   "source": [
    "client = pymongo.MongoClient()\n",
    "db = client.swatford"
   ]
  },
  {
   "cell_type": "code",
   "execution_count": 3,
   "metadata": {
    "collapsed": true
   },
   "outputs": [],
   "source": [
    "gene_uid = pd.read_pickle(\"../data/SSI/gene_uid.p\")"
   ]
  },
  {
   "cell_type": "code",
   "execution_count": null,
   "metadata": {
    "collapsed": true
   },
   "outputs": [],
   "source": [
    "bc_uids = [\"D009389\",\"D018919\",\"D017209\",\"D002453\",\"D057890\",\"D004249\",\"D004260\",\"D013006\",\"D002470\",\"D007107\",\n",
    "    \"D007249\",\"D001940\",\"D001941\",\"D018384\",\"D049109\",\"D012739\",\"D015262\"]"
   ]
  },
  {
   "cell_type": "code",
   "execution_count": null,
   "metadata": {
    "collapsed": true
   },
   "outputs": [],
   "source": [
    "bc_genes = pd.read_pickle(\"../data/SSI/ssi_gene_list.p\")"
   ]
  },
  {
   "cell_type": "code",
   "execution_count": null,
   "metadata": {
    "collapsed": true
   },
   "outputs": [],
   "source": [
    "desc_children = pd.Series({doc[\"uid\"]:db.medline.descs.find({\"ancestors\":{\"$in\":doc[\"tn\"]}}).count() \n",
    "               for doc in db.medline.descs.find({\"uid\":{\"$in\":bc_uids}})})"
   ]
  },
  {
   "cell_type": "code",
   "execution_count": null,
   "metadata": {
    "collapsed": true
   },
   "outputs": [],
   "source": [
    "desc_name_map = pd.Series({doc[\"uid\"]:doc[\"name\"] for doc in db.medline.descs.find()})"
   ]
  },
  {
   "cell_type": "code",
   "execution_count": null,
   "metadata": {
    "collapsed": true
   },
   "outputs": [],
   "source": [
    "bc_results = gene_uid[gene_uid.uid.isin(bc_uids)].groupby(\"uid\").gene_id.apply(set)"
   ]
  },
  {
   "cell_type": "code",
   "execution_count": null,
   "metadata": {
    "collapsed": true
   },
   "outputs": [],
   "source": [
    "data = pd.DataFrame([bc_results.apply(len),bc_results.apply(lambda x: len(set(bc_genes) & set(x) )),\n",
    "                     desc_children,desc_name_map[bc_uids]],\n",
    "             index=[\"total genes\",\"ssi genes\",\"number of children\",\"name\"]).T\n"
   ]
  },
  {
   "cell_type": "code",
   "execution_count": null,
   "metadata": {
    "collapsed": true
   },
   "outputs": [],
   "source": [
    "data.set_index(\"name\",inplace=True)"
   ]
  },
  {
   "cell_type": "code",
   "execution_count": null,
   "metadata": {},
   "outputs": [],
   "source": [
    "data"
   ]
  },
  {
   "cell_type": "code",
   "execution_count": null,
   "metadata": {},
   "outputs": [],
   "source": [
    "sns.set_context(\"talk\")\n",
    "sns.set_style(\"white\")\n",
    "\n",
    "data.sort_values(\"number of children\",ascending=False,inplace=True)\n",
    "\n",
    "fig = plt.figure()\n",
    "\n",
    "ax1 = fig.add_subplot(211)\n",
    "ax2 = fig.add_subplot(212,sharex=ax1)\n",
    "\n",
    "ax3 = ax1.twinx()\n",
    "ax4 = ax2.twinx()\n",
    "\n",
    "data[\"total genes\"].plot(ax=ax1,kind=\"bar\")\n",
    "data[\"number of children\"].plot(ax=ax3,color=\"r\")\n",
    "\n",
    "data[\"ssi genes\"].plot(ax=ax2,kind=\"bar\")\n",
    "data[\"number of children\"].plot(ax=ax4,xlim=(-0.5,16.5),color=\"r\")\n",
    "\n",
    "ax1.set_ylabel(\"Total Number of\\n Genes Retreived\")\n",
    "ax2.set_ylabel(\"Number of SSI\\n Genes Retreived\")\n",
    "ax2.set_xlabel(\"MeSH Terms\")\n",
    "\n",
    "ax3.tick_params(axis=\"y\",colors=\"red\")\n",
    "ax4.tick_params(axis=\"y\",colors=\"red\")\n",
    "\n",
    "ax4.text(17.6, 120, \"Number of Descendants\",rotation=90)\n",
    "\n",
    "for tick in ax2.xaxis.get_ticklabels():\n",
    "    tick.set_horizontalalignment(\"right\")\n",
    "    tick.set_rotation(45)\n",
    "    \n",
    "ax1.tick_params(axis=\"y\",length=7,top=False)\n",
    "ax2.tick_params(axis=\"both\",length=7,top=False)\n",
    "ax3.tick_params(axis=\"y\",length=7)\n",
    "ax4.tick_params(axis=\"y\",length=7)\n",
    "fig.suptitle(\"Retreived Genes Compared to MeSH Terms\")\n",
    "plt.savefig(\"gene_child_cov.png\",dpi=500,transparent=True,bbox_inches=\"tight\")"
   ]
  },
  {
   "cell_type": "code",
   "execution_count": null,
   "metadata": {
    "collapsed": true
   },
   "outputs": [],
   "source": []
  }
 ],
 "metadata": {
  "kernelspec": {
   "display_name": "Python 3",
   "language": "python",
   "name": "python3"
  },
  "language_info": {
   "codemirror_mode": {
    "name": "ipython",
    "version": 3
   },
   "file_extension": ".py",
   "mimetype": "text/x-python",
   "name": "python",
   "nbconvert_exporter": "python",
   "pygments_lexer": "ipython3",
   "version": "3.6.0"
  }
 },
 "nbformat": 4,
 "nbformat_minor": 1
}
