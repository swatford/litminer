{
 "cells": [
  {
   "cell_type": "code",
   "execution_count": 1,
   "metadata": {
    "collapsed": true
   },
   "outputs": [],
   "source": [
    "import pandas as pd\n",
    "import matplotlib.pyplot as plt\n",
    "import matplotlib\n",
    "import seaborn as sns\n",
    "import pymongo\n",
    "import pickle\n",
    "from scipy.stats import spearmanr,mannwhitneyu\n",
    "\n",
    "\n",
    "%matplotlib inline\n",
    "sns.set_context(\"poster\")"
   ]
  },
  {
   "cell_type": "code",
   "execution_count": 2,
   "metadata": {
    "collapsed": true
   },
   "outputs": [],
   "source": [
    "client = pymongo.MongoClient()\n",
    "db = client.swatford"
   ]
  },
  {
   "cell_type": "code",
   "execution_count": 3,
   "metadata": {
    "collapsed": true
   },
   "outputs": [],
   "source": [
    "gene_uid = pd.read_pickle(\"../data/SSI/gene_uid.p\")"
   ]
  },
  {
   "cell_type": "code",
   "execution_count": 4,
   "metadata": {
    "collapsed": true
   },
   "outputs": [],
   "source": [
    "%run ../scripts/equations.py"
   ]
  },
  {
   "cell_type": "code",
   "execution_count": 5,
   "metadata": {
    "collapsed": true
   },
   "outputs": [],
   "source": [
    "n = db.genes.descs.original.find().count()\n",
    "gene_uid[\"pmi\"] = pmi(gene_uid.gd_freq.values,gene_uid.d_freq.values,gene_uid.g_freq.values,n)\n",
    "gene_uid[\"npmi\"] = npmi(gene_uid.pmi.values,gene_uid.gd_freq.values,n)"
   ]
  },
  {
   "cell_type": "code",
   "execution_count": 6,
   "metadata": {
    "collapsed": true
   },
   "outputs": [],
   "source": [
    "bc_uids = [\"D009389\",\"D018919\",\"D017209\",\"D002453\",\"D057890\",\"D004249\",\"D004260\",\"D013006\",\"D002470\",\"D007107\",\n",
    "    \"D007249\",\"D001940\",\"D001941\",\"D018384\",\"D049109\",\"D012739\",\"D015262\"]"
   ]
  },
  {
   "cell_type": "code",
   "execution_count": 7,
   "metadata": {
    "collapsed": true
   },
   "outputs": [],
   "source": [
    "desc_children = []\n",
    "for doc in db.medline.descs.find({\"uid\":{\"$in\":bc_uids}}):\n",
    "    desc_children.append(doc[\"uid\"])\n",
    "    desc_children+=db.medline.descs.distinct(\"uid\",{\"ancestors\":{\"$in\":doc[\"tn\"]}})\n",
    "desc_children = set(desc_children)"
   ]
  },
  {
   "cell_type": "code",
   "execution_count": 8,
   "metadata": {
    "collapsed": true
   },
   "outputs": [],
   "source": [
    "bc_genes = pd.read_pickle(\"../data/SSI/ssi_gene_list.p\")"
   ]
  },
  {
   "cell_type": "code",
   "execution_count": 9,
   "metadata": {
    "collapsed": true
   },
   "outputs": [],
   "source": [
    "desc_name_map = pd.Series({doc[\"uid\"]:doc[\"name\"] for doc in db.medline.descs.find()})"
   ]
  },
  {
   "cell_type": "code",
   "execution_count": 22,
   "metadata": {
    "collapsed": true
   },
   "outputs": [],
   "source": [
    "bc_results = gene_uid[(gene_uid.gd_freq>2) &\n",
    "         (gene_uid.uid.isin(desc_children))][[\"gene_id\",\"uid\",\"npmi\"]].copy()\n",
    "# .groupby(\"gene_id\").mean()"
   ]
  },
  {
   "cell_type": "code",
   "execution_count": 23,
   "metadata": {},
   "outputs": [],
   "source": [
    "bc_results[\"npmi_rank\"] = [None]*len(bc_results)\n",
    "bc_results = bc_results[[\"gene_id\",\"uid\",\"npmi\",\"npmi_rank\"]].pivot(index=\"gene_id\",columns=\"uid\")"
   ]
  },
  {
   "cell_type": "code",
   "execution_count": 24,
   "metadata": {
    "collapsed": true
   },
   "outputs": [],
   "source": [
    "bc_results = bc_results.swaplevel(1,0,axis=1)\n",
    "for d in bc_results.columns.get_level_values(\"uid\"):\n",
    "    bc_results[d,\"npmi\"].update(pd.Series(index = bc_results[d][bc_results[d,\n",
    "                                                                    \"npmi\"]<=0].npmi.index.values,data=np.nan))\n",
    "    bc_results[d,\"npmi_rank\"] = bc_results[d,\"npmi\"].rank(ascending=False,na_option=\"bottom\")"
   ]
  },
  {
   "cell_type": "code",
   "execution_count": 25,
   "metadata": {},
   "outputs": [
    {
     "data": {
      "text/plain": [
       "(3683.0, 7710.022988505747, 6517.0837638671965)"
      ]
     },
     "execution_count": 25,
     "metadata": {},
     "output_type": "execute_result"
    }
   ],
   "source": [
    "bc_results.swaplevel(0,1,axis=1).npmi_rank.mean(axis=1)[bc_genes].min(),bc_results.swaplevel(0,1,axis=1).npmi_rank.mean(axis=1)[bc_genes].max(),bc_results.swaplevel(0,1,axis=1).npmi_rank.mean(axis=1)[bc_genes].mean()"
   ]
  },
  {
   "cell_type": "code",
   "execution_count": 33,
   "metadata": {},
   "outputs": [
    {
     "data": {
      "text/plain": [
       "7157      3683.000000\n",
       "7124      3796.890805\n",
       "5595      4354.333333\n",
       "5594      4354.333333\n",
       "3569      4397.686782\n",
       "7040      4458.844828\n",
       "596       4527.896552\n",
       "6774      4555.724138\n",
       "207       4656.189655\n",
       "5743      4785.146552\n",
       "3553      4810.451149\n",
       "2099      4985.864943\n",
       "4609      4995.298851\n",
       "3586      5020.143678\n",
       "3458      5043.841954\n",
       "3383      5106.025862\n",
       "5970      5123.867816\n",
       "1026      5130.698276\n",
       "1432      5148.201149\n",
       "5468      5156.318966\n",
       "1017      5163.140805\n",
       "1956      5171.741379\n",
       "7422      5180.324713\n",
       "6300      5191.715517\n",
       "6347      5203.629310\n",
       "4318      5226.244253\n",
       "3558      5237.704023\n",
       "983       5250.244253\n",
       "332       5333.721264\n",
       "5728      5379.488506\n",
       "             ...     \n",
       "3090      7419.267241\n",
       "5648      7424.181034\n",
       "25800     7429.850575\n",
       "4129      7449.979885\n",
       "112398    7452.948276\n",
       "10309     7457.186782\n",
       "79915     7461.408046\n",
       "6818      7467.695402\n",
       "4287      7470.614943\n",
       "5360      7475.031609\n",
       "345       7480.942529\n",
       "3158      7482.181034\n",
       "2990      7486.672414\n",
       "4025      7488.114943\n",
       "1812      7493.807471\n",
       "148       7496.060345\n",
       "6531      7535.295977\n",
       "7718      7535.356322\n",
       "5016      7540.816092\n",
       "4987      7556.402299\n",
       "6132      7565.474138\n",
       "23621     7582.209770\n",
       "66002     7601.247126\n",
       "8745      7606.178161\n",
       "3363      7608.951149\n",
       "8577      7637.057471\n",
       "64210     7641.206897\n",
       "3362      7666.686782\n",
       "3358      7669.137931\n",
       "3361      7710.022989\n",
       "Length: 287, dtype: float64"
      ]
     },
     "execution_count": 33,
     "metadata": {},
     "output_type": "execute_result"
    }
   ],
   "source": [
    "bc_results.swaplevel(0,1,axis=1).npmi_rank.mean(axis=1)[bc_genes].sort_values()"
   ]
  },
  {
   "cell_type": "code",
   "execution_count": 35,
   "metadata": {
    "collapsed": true
   },
   "outputs": [],
   "source": [
    "genie_results = pd.read_table(\"../data/SSI/genie_results_20170718145030538722642_table.txt\").set_index(\"GeneID\")"
   ]
  },
  {
   "cell_type": "code",
   "execution_count": 52,
   "metadata": {},
   "outputs": [
    {
     "data": {
      "image/png": "[encoded data removed]",
      "text/plain": [
       "<matplotlib.figure.Figure at 0x7faef69a21d0>"
      ]
     },
     "metadata": {},
     "output_type": "display_data"
    }
   ],
   "source": [
    "results = pd.DataFrame([pd.Series(genie_results.loc[bc_genes].Rank),\n",
    "#              bc_results.rank(ascending=False,na_option=\"bottom\").loc[bc_genes].npmi\n",
    "               bc_results.swaplevel(0,1,axis=1).npmi_rank.mean(axis=1)[bc_genes]\n",
    "                       ],\n",
    "             index=[\"Genie rank\",\"EMCON rank\"]).T\n",
    "ax = plt.subplot()\n",
    "results.plot(x=\"Genie rank\",y=\"EMCON rank\",kind=\"scatter\",ax=ax)\n",
    "ax.text(1,0.96,f\"Spearman Rank Correlation = {round(spearmanr(results.values)[0],3)}\",\n",
    "        horizontalalignment=\"right\",\n",
    "        transform=ax.transAxes)\n",
    "# results2 = pd.DataFrame([pd.Series(genie_results_bn.loc[bc_genes].Rank),\n",
    "# #              bc_results.rank(ascending=False,na_option=\"bottom\").loc[bc_genes].npmi\n",
    "#                bc_results.swaplevel(0,1,axis=1).npmi_rank.mean(axis=1)[bc_genes]\n",
    "#                         ],\n",
    "#              index=[\"Genie rank\",\"EMCON rank\"]).T\n",
    "# results2.plot(x=\"Genie rank\",y=\"EMCON rank\",kind=\"scatter\",ax=ax,c=\"g\")\n",
    "# ax2.text(0.95,0.91,f\"Spearman Rank Correlation = {round(spearmanr(results2.values)[0],3)}\",\n",
    "#         horizontalalignment=\"right\",\n",
    "#         transform=ax.transAxes)\n",
    "# plt.title(\"\"\"Rank Correlation of ESR gene set\\nGenie Results using 214 MeSH terms compared to EMCON\"\"\")\n",
    "plt.savefig(\"genie_comp_all_mesh_terms.jpeg\",dpi=500,transparent=False,bbox_inches=\"tight\")"
   ]
  },
  {
   "cell_type": "code",
   "execution_count": 40,
   "metadata": {},
   "outputs": [
    {
     "data": {
      "text/plain": [
       "(1235, 14811, 1777)"
      ]
     },
     "execution_count": 40,
     "metadata": {},
     "output_type": "execute_result"
    }
   ],
   "source": [
    "len(genie_results),len(bc_results),len(genie_results_bn)"
   ]
  },
  {
   "cell_type": "code",
   "execution_count": 41,
   "metadata": {},
   "outputs": [
    {
     "data": {
      "text/plain": [
       "SpearmanrResult(correlation=0.56110471363374059, pvalue=3.3293158079557996e-25)"
      ]
     },
     "execution_count": 41,
     "metadata": {},
     "output_type": "execute_result"
    }
   ],
   "source": [
    "spearmanr(results.values)"
   ]
  },
  {
   "cell_type": "code",
   "execution_count": 37,
   "metadata": {
    "collapsed": true
   },
   "outputs": [],
   "source": [
    "genie_results_bn = pd.read_table(\n",
    "    \"../data/SSI/genie_results_breast_neoplasms_20170718153344381245235_table.txt\").set_index(\"GeneID\")"
   ]
  },
  {
   "cell_type": "code",
   "execution_count": 57,
   "metadata": {},
   "outputs": [
    {
     "data": {
      "image/png": "[encoded data removed]",
      "text/plain": [
       "<matplotlib.figure.Figure at 0x7faef6bc17f0>"
      ]
     },
     "metadata": {},
     "output_type": "display_data"
    }
   ],
   "source": [
    "results2 = pd.DataFrame([pd.Series(genie_results_bn.loc[bc_genes].Rank),\n",
    "#              bc_results.rank(ascending=False,na_option=\"bottom\").loc[bc_genes].npmi\n",
    "               bc_results.swaplevel(0,1,axis=1).npmi_rank.mean(axis=1)[bc_genes]\n",
    "                        ],\n",
    "             index=[\"Genie rank\",\"EMCON rank\"]).T\n",
    "ax = plt.subplot()\n",
    "results2.plot(x=\"Genie rank\",y=\"EMCON rank\",kind=\"scatter\",ax=ax)\n",
    "ax.text(1,0.96,f\"Spearman Rank Correlation = {round(spearmanr(results2.values)[0],3)}\",\n",
    "        horizontalalignment=\"right\",\n",
    "        transform=ax.transAxes)\n",
    "# plt.title(\"\"\"Rank Correlation of ESR gene set\\nGenie Results using \"Breast Neoplasms\" compared to EMCON\"\"\")\n",
    "plt.savefig(\"genie_comp_bn.jpeg\",dpi=500,transparent=False,bbox_inches=\"tight\")"
   ]
  },
  {
   "cell_type": "code",
   "execution_count": 43,
   "metadata": {},
   "outputs": [
    {
     "data": {
      "text/plain": [
       "SpearmanrResult(correlation=0.4509739672233351, pvalue=8.7646765747990618e-16)"
      ]
     },
     "execution_count": 43,
     "metadata": {},
     "output_type": "execute_result"
    }
   ],
   "source": [
    "spearmanr(results2.values)"
   ]
  },
  {
   "cell_type": "code",
   "execution_count": 119,
   "metadata": {},
   "outputs": [
    {
     "data": {
      "text/plain": [
       "array([  2052,   1543,   1544,      9,     10,   1548,   1555,   1557,\n",
       "         1558,   1559,   5648,  83990,   1562,   4128,   4129,   1571,\n",
       "         1573,   7718,   1577,   8745,  79915,   3122,   2104,  10309,\n",
       "        23621,   3158,  54361,   5727,   2660,   7799,    134,    135,\n",
       "          652,   3726,  58508,   8577,    148,   5016,   5788,   6300,\n",
       "         5792,   6818,   6822,   8370,   4287,   4292,   5327,  64210,\n",
       "         1244,    226,   4835,   3312,   5360,   9970,   5890,   6926,\n",
       "         6927,   6416, 112398,   1812,   5916,   4893,   3358,   3361,\n",
       "         3362,   3363,   8996,   5423,   2353,   7480,   2877,   5451,\n",
       "          338,    345,    347,  57178,  10599,   9577,   2939,   4987,\n",
       "         4988,   2944,   3456,   2946,   6531,   2952,  54658,   7056,\n",
       "         2990,  29108,    952,   4025,   9156,   8647,    969,  79365,\n",
       "        66002,   2004,   3562,   5609,   3565,   2547,   6132])"
      ]
     },
     "execution_count": 119,
     "metadata": {},
     "output_type": "execute_result"
    }
   ],
   "source": [
    "results[results[\"Genie rank\"].isnull()].index.values"
   ]
  },
  {
   "cell_type": "code",
   "execution_count": 121,
   "metadata": {},
   "outputs": [
    {
     "data": {
      "text/plain": [
       "array([ 1548,  5648,  1562,  4128,  4129,  1573,  7718,  3623,  3624,\n",
       "        3625,  8745, 79915,  3122,  6720, 10309, 23621,  3158, 54361,\n",
       "        5727,  2660,   134,   135,   652, 58508,  8577,   148,  5016,\n",
       "        5788,  5792,  6818,  6822,  8370,  4287,   706,  8900,  5327,\n",
       "       64210,   226, 10468,  5360,  9970,  6927,  1812,  5916,  4893,\n",
       "        3358,  3361,  3362,  3363,  8996,  7480,  2877,  5451,   338,\n",
       "         345,   347,  9577,  1906,  2939,  4987,  4988,  3456,  2946,\n",
       "        3972,  6531,  7043,  7056,  7067,  2990,   952,  4025,  9156,\n",
       "        8647,   969, 66002,  2004,  3558,  3562,  5609,  3565,  6132])"
      ]
     },
     "execution_count": 121,
     "metadata": {},
     "output_type": "execute_result"
    }
   ],
   "source": [
    "results2[results2[\"Genie rank\"].isnull()].index.values"
   ]
  },
  {
   "cell_type": "code",
   "execution_count": null,
   "metadata": {
    "collapsed": true
   },
   "outputs": [],
   "source": []
  }
 ],
 "metadata": {
  "kernelspec": {
   "display_name": "Python 3",
   "language": "python",
   "name": "python3"
  },
  "language_info": {
   "codemirror_mode": {
    "name": "ipython",
    "version": 3
   },
   "file_extension": ".py",
   "mimetype": "text/x-python",
   "name": "python",
   "nbconvert_exporter": "python",
   "pygments_lexer": "ipython3",
   "version": "3.6.0"
  }
 },
 "nbformat": 4,
 "nbformat_minor": 1
}
