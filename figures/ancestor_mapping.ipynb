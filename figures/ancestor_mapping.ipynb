{
 "cells": [
  {
   "cell_type": "code",
   "execution_count": 1,
   "metadata": {
    "collapsed": true
   },
   "outputs": [],
   "source": [
    "from pymongo import MongoClient\n",
    "import pandas as pd\n",
    "import numpy as np\n",
    "from numba import vectorize\n",
    "from collections import defaultdict, Counter\n",
    "from itertools import product,combinations,chain\n",
    "import matplotlib.pyplot as plt\n",
    "import matplotlib\n",
    "from matplotlib import gridspec\n",
    "from scipy.stats import rankdata,percentileofscore\n",
    "import seaborn as sns\n",
    "import networkx as nx\n",
    "import matplotlib.patches as mpatches\n",
    "\n",
    "\n",
    "%matplotlib inline\n",
    "matplotlib.rcParams[\"figure.figsize\"] = (20.0, 10.0)\n",
    "matplotlib.rcParams[\"font.size\"] = 26\n",
    "matplotlib.rcParams[\"axes.grid\"] = True\n",
    "matplotlib.rcParams[\"axes.facecolor\"] = (0.97,0.97,0.97)"
   ]
  },
  {
   "cell_type": "code",
   "execution_count": 2,
   "metadata": {
    "collapsed": true
   },
   "outputs": [],
   "source": [
    "client = MongoClient()\n",
    "db = client.swatford"
   ]
  },
  {
   "cell_type": "code",
   "execution_count": 3,
   "metadata": {
    "collapsed": true
   },
   "outputs": [],
   "source": [
    "gene_uid = pd.read_pickle(\"../data/SSI/gene_uid.p\")"
   ]
  },
  {
   "cell_type": "code",
   "execution_count": 4,
   "metadata": {
    "collapsed": true
   },
   "outputs": [],
   "source": [
    "gene_uid_original = pd.read_pickle(\"../data/SSI/gene_uid_original.p\")"
   ]
  },
  {
   "cell_type": "code",
   "execution_count": 5,
   "metadata": {
    "collapsed": true
   },
   "outputs": [],
   "source": [
    "desc_name_map = pd.Series({doc[\"uid\"]:doc[\"name\"] for doc in db.medline.descs.find()})"
   ]
  },
  {
   "cell_type": "code",
   "execution_count": 6,
   "metadata": {
    "collapsed": true
   },
   "outputs": [],
   "source": [
    "gene_uid[\"name\"] = gene_uid.uid.map(desc_name_map)"
   ]
  },
  {
   "cell_type": "code",
   "execution_count": 7,
   "metadata": {
    "collapsed": true
   },
   "outputs": [],
   "source": [
    "gene_uid_original[\"name\"] = gene_uid_original.uid.map(desc_name_map)"
   ]
  },
  {
   "cell_type": "code",
   "execution_count": 8,
   "metadata": {
    "collapsed": true
   },
   "outputs": [],
   "source": [
    "%run ../scripts/equations.py"
   ]
  },
  {
   "cell_type": "code",
   "execution_count": 11,
   "metadata": {
    "collapsed": true
   },
   "outputs": [],
   "source": [
    "n = db.genes.descs.original.find().count()\n",
    "gene_uid[\"pmi\"] = pmi(gene_uid.gd_freq.values,gene_uid.d_freq.values,gene_uid.g_freq.values,n)\n",
    "gene_uid[\"npmi\"] = npmi(gene_uid.pmi.values,gene_uid.gd_freq.values,n)\n",
    "gene_uid[\"pgm\"] = gene_uid.gd_freq/n\n",
    "gene_uid[\"pg\"] = gene_uid.g_freq/n"
   ]
  },
  {
   "cell_type": "code",
   "execution_count": 122,
   "metadata": {
    "collapsed": true
   },
   "outputs": [],
   "source": [
    "gene_uid[\"pm\"] = gene_uid.d_freq/n"
   ]
  },
  {
   "cell_type": "code",
   "execution_count": 126,
   "metadata": {},
   "outputs": [
    {
     "data": {
      "text/plain": [
       "0.062549300326884855"
      ]
     },
     "execution_count": 126,
     "metadata": {},
     "output_type": "execute_result"
    }
   ],
   "source": [
    "gene_uid[gene_uid.gd_freq>2].pm.max()"
   ]
  },
  {
   "cell_type": "code",
   "execution_count": 10,
   "metadata": {
    "collapsed": true
   },
   "outputs": [],
   "source": [
    "gene_uid_original[\"pmi\"] = pmi(gene_uid_original.gd_freq.values,\n",
    "                               gene_uid_original.d_freq.values,gene_uid_original.g_freq.values,n)\n",
    "gene_uid_original[\"npmi\"] = npmi(gene_uid_original.pmi.values,gene_uid_original.gd_freq.values,n)"
   ]
  },
  {
   "cell_type": "code",
   "execution_count": 12,
   "metadata": {
    "collapsed": true
   },
   "outputs": [],
   "source": [
    "# uids = [\"D009369\",\"D002277\",\"D000230\",\"D044584\",\"D018270\"] \n",
    "cc_uids = [\"D002453\",\"D002455\",\"D048750\",\"D008938\",\"D059566\"] #Cell Cycle\n",
    "bd_uids = [\"D012871\",\"D001941\",\"D001943\",\"D064726\"] # Breast Diseases"
   ]
  },
  {
   "cell_type": "code",
   "execution_count": 56,
   "metadata": {
    "collapsed": true
   },
   "outputs": [],
   "source": [
    "cc_g = 4085 #MAD2L1\n",
    "bd_g = 1956 #EGFR\n",
    "\n",
    "a = gene_uid_original[(gene_uid_original.uid.isin(cc_uids)) \n",
    "    & (gene_uid_original.gene_id==cc_g)].sort_values(\"npmi\")[\n",
    "    [\"gene_id\",\"name\",\"npmi\"]].copy()\n",
    "a.npmi = a.npmi.round(2)\n",
    "b = gene_uid[(gene_uid.uid.isin(cc_uids)) \n",
    "    & (gene_uid.gene_id==cc_g)].sort_values(\"npmi\")[\n",
    "    [\"gene_id\",\"name\",\"npmi\",\"pgm\",\"pg\"]]\n",
    "b.npmi = b.npmi.round(2)\n",
    "\n",
    "cc_table_data = b.merge(a,on=[\"name\",\"gene_id\"])[[\"name\",\"pgm\",\"npmi_y\",\"npmi_x\"]].set_index(\"name\")\n",
    "cc_table_data.pgm = cc_table_data.pgm.apply(np.round,decimals=8).astype(str)\n",
    "\n",
    "a = gene_uid_original[(gene_uid_original.uid.isin(bd_uids)) \n",
    "    & (gene_uid_original.gene_id==bd_g)].sort_values(\"npmi\")[\n",
    "    [\"gene_id\",\"name\",\"npmi\"]].copy()\n",
    "a.npmi = a.npmi.round(2)\n",
    "b = gene_uid[(gene_uid.uid.isin(bd_uids)) \n",
    "    & (gene_uid.gene_id==bd_g)].sort_values(\"npmi\")[\n",
    "    [\"gene_id\",\"name\",\"npmi\",\"pgm\",\"pg\"]]\n",
    "b.npmi = b.npmi.round(2)\n",
    "\n",
    "bd_table_data = b.merge(a,on=[\"name\",\"gene_id\"])[[\"name\",\"pgm\",\"npmi_y\",\"npmi_x\"]].set_index(\"name\")\n",
    "bd_table_data.pgm = bd_table_data.pgm.apply(np.round,decimals=8).astype(str)"
   ]
  },
  {
   "cell_type": "code",
   "execution_count": 129,
   "metadata": {},
   "outputs": [
    {
     "data": {
      "text/html": [
       "<div>\n",
       "<style>\n",
       "    .dataframe thead tr:only-child th {\n",
       "        text-align: right;\n",
       "    }\n",
       "\n",
       "    .dataframe thead th {\n",
       "        text-align: left;\n",
       "    }\n",
       "\n",
       "    .dataframe tbody tr th {\n",
       "        vertical-align: top;\n",
       "    }\n",
       "</style>\n",
       "<table border=\"1\" class=\"dataframe\">\n",
       "  <thead>\n",
       "    <tr style=\"text-align: right;\">\n",
       "      <th></th>\n",
       "      <th>pgm</th>\n",
       "      <th>npmi_y</th>\n",
       "      <th>npmi_x</th>\n",
       "    </tr>\n",
       "    <tr>\n",
       "      <th>name</th>\n",
       "      <th></th>\n",
       "      <th></th>\n",
       "      <th></th>\n",
       "    </tr>\n",
       "  </thead>\n",
       "  <tbody>\n",
       "    <tr>\n",
       "      <th>Skin Diseases</th>\n",
       "      <td>1.2e-07</td>\n",
       "      <td>0.07</td>\n",
       "      <td>-0.21</td>\n",
       "    </tr>\n",
       "    <tr>\n",
       "      <th>Breast Diseases</th>\n",
       "      <td>2e-08</td>\n",
       "      <td>0.08</td>\n",
       "      <td>-0.27</td>\n",
       "    </tr>\n",
       "    <tr>\n",
       "      <th>Breast Neoplasms</th>\n",
       "      <td>6.4e-06</td>\n",
       "      <td>0.10</td>\n",
       "      <td>0.10</td>\n",
       "    </tr>\n",
       "    <tr>\n",
       "      <th>Triple Negative Breast Neoplasms</th>\n",
       "      <td>5.8e-07</td>\n",
       "      <td>0.21</td>\n",
       "      <td>0.21</td>\n",
       "    </tr>\n",
       "  </tbody>\n",
       "</table>\n",
       "</div>"
      ],
      "text/plain": [
       "                                      pgm  npmi_y  npmi_x\n",
       "name                                                     \n",
       "Skin Diseases                     1.2e-07    0.07   -0.21\n",
       "Breast Diseases                     2e-08    0.08   -0.27\n",
       "Breast Neoplasms                  6.4e-06    0.10    0.10\n",
       "Triple Negative Breast Neoplasms  5.8e-07    0.21    0.21"
      ]
     },
     "execution_count": 129,
     "metadata": {},
     "output_type": "execute_result"
    }
   ],
   "source": [
    "bd_table_data"
   ]
  },
  {
   "cell_type": "code",
   "execution_count": 36,
   "metadata": {},
   "outputs": [
    {
     "data": {
      "text/plain": [
       "(0.00010883437978356425, 0.0018259912918203382)"
      ]
     },
     "execution_count": 36,
     "metadata": {},
     "output_type": "execute_result"
    }
   ],
   "source": [
    "gene_uid[gene_uid.gene_id==cc_g].g_freq.unique()[0]/n,gene_uid[gene_uid.gene_id==bd_g].g_freq.unique()[0]/n"
   ]
  },
  {
   "cell_type": "code",
   "execution_count": 127,
   "metadata": {},
   "outputs": [
    {
     "data": {
      "text/html": [
       "<div>\n",
       "<style>\n",
       "    .dataframe thead tr:only-child th {\n",
       "        text-align: right;\n",
       "    }\n",
       "\n",
       "    .dataframe thead th {\n",
       "        text-align: left;\n",
       "    }\n",
       "\n",
       "    .dataframe tbody tr th {\n",
       "        vertical-align: top;\n",
       "    }\n",
       "</style>\n",
       "<table border=\"1\" class=\"dataframe\">\n",
       "  <thead>\n",
       "    <tr style=\"text-align: right;\">\n",
       "      <th></th>\n",
       "      <th>Before annotation bias correction</th>\n",
       "      <th>After annotation bias correction</th>\n",
       "    </tr>\n",
       "    <tr>\n",
       "      <th>name</th>\n",
       "      <th></th>\n",
       "      <th></th>\n",
       "    </tr>\n",
       "  </thead>\n",
       "  <tbody>\n",
       "    <tr>\n",
       "      <th>Cell Cycle</th>\n",
       "      <td>0.001587</td>\n",
       "      <td>0.003691</td>\n",
       "    </tr>\n",
       "    <tr>\n",
       "      <th>Cell Division</th>\n",
       "      <td>0.000806</td>\n",
       "      <td>0.001958</td>\n",
       "    </tr>\n",
       "    <tr>\n",
       "      <th>Cell Nucleus Division</th>\n",
       "      <td>0.000002</td>\n",
       "      <td>0.001147</td>\n",
       "    </tr>\n",
       "    <tr>\n",
       "      <th>Mitosis</th>\n",
       "      <td>0.000568</td>\n",
       "      <td>0.000982</td>\n",
       "    </tr>\n",
       "    <tr>\n",
       "      <th>M Phase Cell Cycle Checkpoints</th>\n",
       "      <td>0.000060</td>\n",
       "      <td>0.000060</td>\n",
       "    </tr>\n",
       "  </tbody>\n",
       "</table>\n",
       "</div>"
      ],
      "text/plain": [
       "                                Before annotation bias correction  \\\n",
       "name                                                                \n",
       "Cell Cycle                                               0.001587   \n",
       "Cell Division                                            0.000806   \n",
       "Cell Nucleus Division                                    0.000002   \n",
       "Mitosis                                                  0.000568   \n",
       "M Phase Cell Cycle Checkpoints                           0.000060   \n",
       "\n",
       "                                After annotation bias correction  \n",
       "name                                                              \n",
       "Cell Cycle                                              0.003691  \n",
       "Cell Division                                           0.001958  \n",
       "Cell Nucleus Division                                   0.001147  \n",
       "Mitosis                                                 0.000982  \n",
       "M Phase Cell Cycle Checkpoints                          0.000060  "
      ]
     },
     "execution_count": 127,
     "metadata": {},
     "output_type": "execute_result"
    }
   ],
   "source": [
    "pd.DataFrame([\n",
    "    gene_uid_original[gene_uid_original.uid.isin(cc_uids)].groupby([\"name\"]).d_freq.apply(lambda x: x.unique()[0]/n),\n",
    "    gene_uid[gene_uid.uid.isin(cc_uids)].groupby(\"name\").d_freq.apply(lambda x: x.unique()[0]/n)],\n",
    "             index=[\"Before annotation bias correction\",\n",
    "                 \"After annotation bias correction\"]).T[[\"Before annotation bias correction\",\n",
    "                                                         \"After annotation bias correction\"]].loc[cc_ticks]"
   ]
  },
  {
   "cell_type": "code",
   "execution_count": 128,
   "metadata": {},
   "outputs": [
    {
     "data": {
      "text/html": [
       "<div>\n",
       "<style>\n",
       "    .dataframe thead tr:only-child th {\n",
       "        text-align: right;\n",
       "    }\n",
       "\n",
       "    .dataframe thead th {\n",
       "        text-align: left;\n",
       "    }\n",
       "\n",
       "    .dataframe tbody tr th {\n",
       "        vertical-align: top;\n",
       "    }\n",
       "</style>\n",
       "<table border=\"1\" class=\"dataframe\">\n",
       "  <thead>\n",
       "    <tr style=\"text-align: right;\">\n",
       "      <th></th>\n",
       "      <th>Before annotation bias correction</th>\n",
       "      <th>After annotation bias correction</th>\n",
       "    </tr>\n",
       "    <tr>\n",
       "      <th>name</th>\n",
       "      <th></th>\n",
       "      <th></th>\n",
       "    </tr>\n",
       "  </thead>\n",
       "  <tbody>\n",
       "    <tr>\n",
       "      <th>Skin Diseases</th>\n",
       "      <td>0.000023</td>\n",
       "      <td>0.001987</td>\n",
       "    </tr>\n",
       "    <tr>\n",
       "      <th>Breast Diseases</th>\n",
       "      <td>0.000002</td>\n",
       "      <td>0.001121</td>\n",
       "    </tr>\n",
       "    <tr>\n",
       "      <th>Breast Neoplasms</th>\n",
       "      <td>0.001086</td>\n",
       "      <td>0.001117</td>\n",
       "    </tr>\n",
       "    <tr>\n",
       "      <th>Triple Negative Breast Neoplasms</th>\n",
       "      <td>0.000014</td>\n",
       "      <td>0.000014</td>\n",
       "    </tr>\n",
       "  </tbody>\n",
       "</table>\n",
       "</div>"
      ],
      "text/plain": [
       "                                  Before annotation bias correction  \\\n",
       "name                                                                  \n",
       "Skin Diseases                                              0.000023   \n",
       "Breast Diseases                                            0.000002   \n",
       "Breast Neoplasms                                           0.001086   \n",
       "Triple Negative Breast Neoplasms                           0.000014   \n",
       "\n",
       "                                  After annotation bias correction  \n",
       "name                                                                \n",
       "Skin Diseases                                             0.001987  \n",
       "Breast Diseases                                           0.001121  \n",
       "Breast Neoplasms                                          0.001117  \n",
       "Triple Negative Breast Neoplasms                          0.000014  "
      ]
     },
     "execution_count": 128,
     "metadata": {},
     "output_type": "execute_result"
    }
   ],
   "source": [
    "pd.DataFrame([\n",
    "    gene_uid_original[gene_uid_original.uid.isin(bd_uids)].groupby([\"name\"]).d_freq.apply(lambda x: x.unique()[0]/n),\n",
    "    gene_uid[gene_uid.uid.isin(bd_uids)].groupby(\"name\").d_freq.apply(lambda x: x.unique()[0]/n)],\n",
    "             index=[\"Before annotation bias correction\",\n",
    "                 \"After annotation bias correction\"]).T[[\"Before annotation bias correction\",\n",
    "                                                         \"After annotation bias correction\"]].loc[bd_ticks]"
   ]
  },
  {
   "cell_type": "code",
   "execution_count": 133,
   "metadata": {},
   "outputs": [
    {
     "data": {
      "image/png": "[encoded data removed]",
      "text/plain": [
       "<matplotlib.figure.Figure at 0x7fc0a760bac8>"
      ]
     },
     "metadata": {},
     "output_type": "display_data"
    }
   ],
   "source": [
    "sns.set_context(\"poster\")\n",
    "\n",
    "bd_ticks = [\n",
    "        \"Skin Diseases\",\n",
    "        \"Breast Diseases\",\n",
    "        \"Breast Neoplasms\",\n",
    "        \"Triple Negative Breast Neoplasms\"]\n",
    "cc_ticks = [\n",
    "        \"Cell Cycle\",\"Cell Division\",\"Cell Nucleus Division\",\"Mitosis\",\"M Phase Cell Cycle Checkpoints\"]\n",
    "\n",
    "fig = plt.figure()\n",
    "ax1 = fig.add_subplot(211)\n",
    "ax2 = fig.add_subplot(212,sharex=ax1)\n",
    "\n",
    "pd.DataFrame([\n",
    "    gene_uid_original[gene_uid_original.uid.isin(cc_uids)].groupby([\"name\"]).d_freq.apply(lambda x: x.unique()[0]/n),\n",
    "    gene_uid[gene_uid.uid.isin(cc_uids)].groupby(\"name\").d_freq.apply(lambda x: x.unique()[0]/n)],\n",
    "             index=[\"Before frequency normalization\",\n",
    "                 \"After frequency normalization\"]).T[[\"Before frequency normalization\",\n",
    "                                                         \"After frequency normalization\"]].loc[cc_ticks].plot(ax=ax1,\n",
    "                                                                                            kind=\"barh\",\n",
    "#                                                                                             logx=True,\n",
    "                                                                                            legend=False)\n",
    "pd.DataFrame([\n",
    "    gene_uid_original[gene_uid_original.uid.isin(bd_uids)].groupby([\"name\"]).d_freq.apply(lambda x: x.unique()[0]/n),\n",
    "    gene_uid[gene_uid.uid.isin(bd_uids)].groupby(\"name\").d_freq.apply(lambda x: x.unique()[0]/n)],\n",
    "             index=[\"Before frequency normalization\",\n",
    "                 \"After frequency normalization\"]).T[[\"Before frequency normalization\",\n",
    "                                                         \"After frequency normalization\"]].loc[bd_ticks].plot(ax=ax2,\n",
    "                                                                                            kind=\"barh\",\n",
    "#                                                                                             logx=True,\n",
    "                                                                                            legend=False)\n",
    "\n",
    "cc_table_data = cc_table_data.loc[cc_ticks].copy()\n",
    "\n",
    "cc_table = ax1.table(cellText=cc_table_data.values,\n",
    "                  cellLoc=\"center\",\n",
    "                  colWidths=[0.15]*3,\n",
    "                  loc=\"left\",\n",
    "                  bbox=(1.46,0,0.3,1),\n",
    "                  transform = ax1.transAxes,\n",
    "                  cellColours=[[(1.,1.,1.),sns.color_palette()[0],sns.color_palette()[1]]]*len(cc_ticks))\n",
    "cc_header = ax1.table(cellText=[['NPMI']],\n",
    "                   colWidths=[0.3],\n",
    "                   cellLoc=\"center\",\n",
    "                   bbox=(1.56,1,0.2,.1),\n",
    "                   loc='top left')\n",
    "cc_header2 = ax1.table(cellText=[[r\"MAD2L1 $p(g)=1.1e-04$\"]],\n",
    "                   colWidths=[0.3],\n",
    "                   cellLoc=\"center\",\n",
    "                   bbox=(1.46,1.1,0.3,.1),\n",
    "                   loc='top left')\n",
    "cc_header3 = ax1.table(cellText=[[r\"$p(g,m)$\"]],\n",
    "                   colWidths=[0.3],\n",
    "                   cellLoc=\"center\",\n",
    "                   bbox=(1.46,1.,0.1,.1),\n",
    "                   loc='top left')\n",
    "cc_table.scale(1,10)\n",
    "cc_header.scale(1,5)\n",
    "# ax1.set_yticklabels([])\n",
    "ax1.set_ylabel(\"\")\n",
    "ax1.yaxis.tick_right()\n",
    "ax1.tick_params(axis=\"y\",length=10,right=\"on\",left=\"off\",pad=160)\n",
    "# ax1.tick_params(axis=\"x\",length=5)\n",
    "# ax1.set_xlabel(r\"proabability of MeSH term occuring ($p(m')$)\")\n",
    "ax1.invert_yaxis()\n",
    "ax1.yaxis.grid(True,color=\"black\",linestyle=\"dotted\")\n",
    "ax1.xaxis.grid(False)\n",
    "\n",
    "bd_table_data = bd_table_data.loc[bd_ticks].copy()\n",
    "\n",
    "bd_table = ax2.table(cellText=bd_table_data.values,\n",
    "                  cellLoc=\"center\",\n",
    "                  colWidths=[0.15]*3,\n",
    "                  loc=\"left\",\n",
    "                  bbox=(1.46,0,0.3,1),\n",
    "                  transform = ax2.transAxes,\n",
    "                  cellColours=[[(1.,1.,1.),sns.color_palette()[0],sns.color_palette()[1]]]*len(bd_ticks))\n",
    "bd_header = ax2.table(cellText=[['NPMI']],\n",
    "                   colWidths=[0.3],\n",
    "                   cellLoc=\"center\",\n",
    "                   bbox=(1.56,1.,0.2,.1),\n",
    "                   loc='top left')\n",
    "bd_header2 = ax2.table(cellText=[[r\"EGFR $p(g)=1.8e-03$\"]],\n",
    "                   colWidths=[0.3],\n",
    "                   cellLoc=\"center\",\n",
    "                   bbox=(1.46,1.1,0.3,.1),\n",
    "                   loc='top left')\n",
    "bd_header3 = ax2.table(cellText=[[r\"$p(g,m)$\"]],\n",
    "                   colWidths=[0.3],\n",
    "                   cellLoc=\"center\",\n",
    "                   bbox=(1.46,1.,0.1,.1),\n",
    "                   loc='top left')\n",
    "bd_table.scale(1,10)\n",
    "bd_header.scale(1,5)\n",
    "# ax2.set_yticklabels([])\n",
    "ax2.set_ylabel(\"\")\n",
    "ax2.yaxis.tick_right()\n",
    "ax2.tick_params(axis=\"y\",length=10,right=\"on\",left=\"off\",pad=160)\n",
    "ax2.tick_params(axis=\"x\",length=5)\n",
    "ax2.set_xlabel(r\"Probability of MeSH term occuring ($p(m)$)\")\n",
    "ax2.invert_yaxis()\n",
    "ax2.yaxis.grid(True,color=\"black\",linestyle=\"dotted\")\n",
    "ax2.xaxis.grid(False)\n",
    "# for r in ax1.patches:\n",
    "#     ax1.annotate(np.round(r.get_width(),7),(r.get_width(),r.get_y()+0.25))\n",
    "# for r in ax2.patches:\n",
    "#     ax2.annotate(np.round(r.get_width(),7),(r.get_width(),r.get_y()+0.25))\n",
    "    \n",
    "handles, labels = ax1.get_legend_handles_labels()\n",
    "# legend = ax2.legend(handles, labels,loc=\"lower right\",bbox_to_anchor=(0.4175,0.95,0,1))\n",
    "legend = ax2.legend(handles, labels,loc=\"lower right\",bbox_to_anchor=(1.45,-0.3,0,1))\n",
    "\n",
    "\n",
    "legend.get_frame().set_facecolor(\"white\")\n",
    "\n",
    "for tick in ax1.yaxis.get_ticklabels():\n",
    "    tick.set_horizontalalignment(\"center\")\n",
    "    tick.set_fontsize(20)\n",
    "for tick in ax2.yaxis.get_ticklabels():\n",
    "    tick.set_horizontalalignment(\"center\")\n",
    "    tick.set_fontsize(20)\n",
    "\n",
    "# ax1.invert_xaxis()\n",
    "plt.savefig(\"ancestor_mapping.jpeg\",dpi=300,transparent=False,bbox_inches=\"tight\")"
   ]
  },
  {
   "cell_type": "code",
   "execution_count": null,
   "metadata": {
    "collapsed": true
   },
   "outputs": [],
   "source": []
  }
 ],
 "metadata": {
  "anaconda-cloud": {},
  "kernelspec": {
   "display_name": "Python 3",
   "language": "python",
   "name": "python3"
  },
  "language_info": {
   "codemirror_mode": {
    "name": "ipython",
    "version": 3
   },
   "file_extension": ".py",
   "mimetype": "text/x-python",
   "name": "python",
   "nbconvert_exporter": "python",
   "pygments_lexer": "ipython3",
   "version": "3.6.0"
  }
 },
 "nbformat": 4,
 "nbformat_minor": 1
}
