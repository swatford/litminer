{
 "cells": [
  {
   "cell_type": "code",
   "execution_count": 1,
   "metadata": {
    "collapsed": true
   },
   "outputs": [],
   "source": [
    "import pandas as pd\n",
    "import pymongo\n",
    "from numba import vectorize,float64\n",
    "import numpy as np\n",
    "from scipy.stats import chi2_contingency,percentileofscore\n",
    "import matplotlib.pyplot as plt\n",
    "import seaborn as sns\n",
    "\n",
    "%matplotlib inline\n",
    "sns.set_context(\"poster\")"
   ]
  },
  {
   "cell_type": "code",
   "execution_count": 2,
   "metadata": {
    "collapsed": true
   },
   "outputs": [],
   "source": [
    "client = pymongo.MongoClient()\n",
    "db = client.swatford"
   ]
  },
  {
   "cell_type": "code",
   "execution_count": 3,
   "metadata": {
    "collapsed": true
   },
   "outputs": [],
   "source": [
    "gene_uid = pd.read_pickle(\"../data/SSI/gene_uid.p\")"
   ]
  },
  {
   "cell_type": "code",
   "execution_count": 4,
   "metadata": {
    "collapsed": true
   },
   "outputs": [],
   "source": [
    "%run equations.py"
   ]
  },
  {
   "cell_type": "code",
   "execution_count": 5,
   "metadata": {
    "collapsed": true
   },
   "outputs": [],
   "source": [
    "n = db.genes.descs.original.find().count()\n",
    "gene_uid[\"pmi\"] = pmi(gene_uid.gd_freq.values,gene_uid.d_freq.values,gene_uid.g_freq.values,n)\n",
    "gene_uid[\"npmi\"] = npmi(gene_uid.pmi.values,gene_uid.gd_freq.values,n)"
   ]
  },
  {
   "cell_type": "code",
   "execution_count": 7,
   "metadata": {
    "collapsed": true
   },
   "outputs": [],
   "source": [
    "uid_name = {doc[\"uid\"]:doc[\"name\"] for doc in db.medline.descs.find({})}"
   ]
  },
  {
   "cell_type": "code",
   "execution_count": 8,
   "metadata": {
    "collapsed": true
   },
   "outputs": [],
   "source": [
    "gene_uid[\"name\"] = gene_uid.uid.map(pd.Series(uid_name))"
   ]
  },
  {
   "cell_type": "code",
   "execution_count": 277,
   "metadata": {},
   "outputs": [
    {
     "data": {
      "image/png": "[encoded data removed]",
      "text/plain": [
       "<matplotlib.figure.Figure at 0x7efd610b8b00>"
      ]
     },
     "metadata": {},
     "output_type": "display_data"
    }
   ],
   "source": [
    "gene_uid.npmi.hist(bins=25)\n",
    "plt.ylabel(\"Number of GeneID-MeSH associations\")\n",
    "plt.xlabel(\"NPMI\")\n",
    "plt.savefig(\"EMCON_NPMI_dist.jpeg\",dpi=500,transparent=False,bbox_inches=\"tight\")"
   ]
  },
  {
   "cell_type": "code",
   "execution_count": 13,
   "metadata": {
    "collapsed": true
   },
   "outputs": [],
   "source": [
    "bc_genes = pd.read_pickle(\"../data/SSI/ssi_gene_list.p\")"
   ]
  },
  {
   "cell_type": "code",
   "execution_count": 14,
   "metadata": {
    "collapsed": true
   },
   "outputs": [],
   "source": [
    "genes = set(gene_uid.gene_id.unique())"
   ]
  },
  {
   "cell_type": "code",
   "execution_count": 15,
   "metadata": {
    "collapsed": true
   },
   "outputs": [],
   "source": [
    "random_gene_lists = np.random.choice(list(genes),(1000,len(bc_genes)))"
   ]
  },
  {
   "cell_type": "code",
   "execution_count": 16,
   "metadata": {
    "collapsed": true
   },
   "outputs": [],
   "source": [
    "bc_uids = [\"D009389\",\"D018919\",\"D017209\",\"D002453\",\"D057890\",\"D004249\",\"D004260\",\"D013006\",\"D002470\",\"D007107\",\n",
    "    \"D007249\",\"D001940\",\"D001941\",\"D018384\",\"D049109\",\"D012739\",\"D015262\"]"
   ]
  },
  {
   "cell_type": "code",
   "execution_count": 17,
   "metadata": {
    "collapsed": true
   },
   "outputs": [],
   "source": [
    "uid_tn = pd.DataFrame([{\"uid\":doc[\"uid\"],\"tn\":tn} \n",
    "                       for doc in db.medline.descs.find({\"tn\":{\"$exists\":True}}) for tn in doc[\"tn\"]])"
   ]
  },
  {
   "cell_type": "code",
   "execution_count": 18,
   "metadata": {
    "collapsed": true
   },
   "outputs": [],
   "source": [
    "bc_tns = uid_tn[uid_tn.uid.isin(bc_uids)]"
   ]
  },
  {
   "cell_type": "code",
   "execution_count": 19,
   "metadata": {
    "collapsed": true
   },
   "outputs": [],
   "source": [
    "bc_children = db.medline.descs.distinct(\"uid\",{\"ancestors\":{\"$in\":list(bc_tns.tn.values)}})"
   ]
  },
  {
   "cell_type": "code",
   "execution_count": 20,
   "metadata": {
    "collapsed": true
   },
   "outputs": [],
   "source": [
    "bc_uids = set(bc_children)|set(bc_uids)"
   ]
  },
  {
   "cell_type": "code",
   "execution_count": 21,
   "metadata": {
    "collapsed": true
   },
   "outputs": [],
   "source": [
    "genie_genes = pd.read_table(\"../data/SSI/genie_results_w_children.txt\")\n",
    "# genie_genes = genie_genes[genie_genes.Rank<=len(bc_genes)].GeneID.unique()\n",
    "genie_genes = genie_genes[genie_genes.Rank<=500].GeneID.unique()\n",
    "genie_genes_bn = pd.read_table(\"../data/SSI/genie_results_breast_neoplasms_20170718153344381245235_table.txt\")\n",
    "genie_genes_bn = genie_genes_bn[genie_genes_bn.Rank<=len(bc_genes)].GeneID.unique()"
   ]
  },
  {
   "cell_type": "code",
   "execution_count": 280,
   "metadata": {
    "collapsed": true
   },
   "outputs": [],
   "source": [
    "bc_results = gene_uid[(gene_uid.uid.isin(bc_uids)) & (gene_uid.gd_freq>2)].copy()"
   ]
  },
  {
   "cell_type": "code",
   "execution_count": 281,
   "metadata": {
    "collapsed": true
   },
   "outputs": [],
   "source": [
    "bc_results[\"npmi_rank\"] = [None]*len(bc_results)\n",
    "bc_results = bc_results[[\"gene_id\",\"uid\",\"npmi\",\"npmi_rank\"]].pivot(index=\"gene_id\",columns=\"uid\")"
   ]
  },
  {
   "cell_type": "code",
   "execution_count": 282,
   "metadata": {
    "collapsed": true
   },
   "outputs": [],
   "source": [
    "bc_results = bc_results.swaplevel(1,0,axis=1)"
   ]
  },
  {
   "cell_type": "code",
   "execution_count": 283,
   "metadata": {
    "collapsed": true
   },
   "outputs": [],
   "source": [
    "for d in bc_results.columns.get_level_values(\"uid\"):\n",
    "    bc_results[d,\"npmi\"].update(pd.Series(index = bc_results[d][bc_results[d,\n",
    "                                                                    \"npmi\"]<=0].npmi.index.values,data=np.nan))\n",
    "    bc_results[d,\"npmi_rank\"] = bc_results[d,\"npmi\"].rank(ascending=False,na_option=\"bottom\")"
   ]
  },
  {
   "cell_type": "code",
   "execution_count": 284,
   "metadata": {
    "collapsed": true
   },
   "outputs": [],
   "source": [
    "random_gene_npmi_ranks = []\n",
    "for rgl in random_gene_lists:\n",
    "    random_gene_npmi_ranks.append(bc_results.swaplevel(0,1,axis=1).npmi_rank.mean(axis=1)[rgl].mean())"
   ]
  },
  {
   "cell_type": "code",
   "execution_count": 285,
   "metadata": {},
   "outputs": [
    {
     "data": {
      "text/plain": [
       "(3683.0, 7710.022988505747, 6517.0837638671965)"
      ]
     },
     "execution_count": 285,
     "metadata": {},
     "output_type": "execute_result"
    }
   ],
   "source": [
    "bc_results.swaplevel(0,1,axis=1).npmi_rank.mean(axis=1)[bc_genes].min(),bc_results.swaplevel(0,1,axis=1).npmi_rank.mean(axis=1)[bc_genes].max(),bc_results.swaplevel(0,1,axis=1).npmi_rank.mean(axis=1)[bc_genes].mean()"
   ]
  },
  {
   "cell_type": "code",
   "execution_count": 295,
   "metadata": {},
   "outputs": [
    {
     "data": {
      "image/png": "[encoded data removed]",
      "text/plain": [
       "<matplotlib.figure.Figure at 0x7efd60e99a90>"
      ]
     },
     "metadata": {},
     "output_type": "display_data"
    }
   ],
   "source": [
    "pd.Series(random_gene_npmi_ranks).hist(label=\"Randomly generated gene sets\")\n",
    "plt.xlabel(\"Average rank\")\n",
    "plt.ylabel(\"Number of gene sets\")\n",
    "\n",
    "plt.axvline(x=bc_results.swaplevel(0,1,axis=1).npmi_rank.mean(axis=1)[bc_genes].mean(),color=\"g\",label=\"ELR gene set\")\n",
    "plt.legend()\n",
    "plt.savefig(\"EMCON_bc_relevance.jpeg\",dpi=500,transparent=False,bbox_inches=\"tight\")"
   ]
  },
  {
   "cell_type": "code",
   "execution_count": null,
   "metadata": {
    "collapsed": true
   },
   "outputs": [],
   "source": [
    "for d in bc_results.columns.get_level_values(\"uid\"):\n",
    "    print(uid_name[d])"
   ]
  },
  {
   "cell_type": "code",
   "execution_count": 296,
   "metadata": {},
   "outputs": [
    {
     "data": {
      "text/plain": [
       "set()"
      ]
     },
     "execution_count": 296,
     "metadata": {},
     "output_type": "execute_result"
    }
   ],
   "source": [
    "set(bc_genes)-set(bc_results.index.values)"
   ]
  },
  {
   "cell_type": "code",
   "execution_count": null,
   "metadata": {
    "collapsed": true
   },
   "outputs": [],
   "source": [
    "pd.Series(random_gene_chi2_ranks).hist()\n",
    "plt.title(\"chi2 distribution\")\n",
    "plt.axvline(x=bc_results.swaplevel(0,1,axis=1).chi2_rank.mean(axis=1)[bc_genes].mean(),color=\"r\")\n",
    "print(np.percentile(random_gene_chi2_ranks,5)-bc_results.swaplevel(0,1,axis=1).chi2_rank.mean(axis=1)[bc_genes].mean())"
   ]
  },
  {
   "cell_type": "code",
   "execution_count": null,
   "metadata": {
    "collapsed": true
   },
   "outputs": [],
   "source": [
    "pd.Series(random_gene_ll_ranks).hist()\n",
    "plt.title(\"log-liklihood distribution\")\n",
    "plt.axvline(x=bc_results.swaplevel(0,1,axis=1).ll_rank.mean(axis=1)[bc_genes].mean(),color=\"r\")\n",
    "print(np.percentile(random_gene_ll_ranks,5)-bc_results.swaplevel(0,1,axis=1).ll_rank.mean(axis=1)[bc_genes].mean())"
   ]
  },
  {
   "cell_type": "code",
   "execution_count": null,
   "metadata": {
    "collapsed": true
   },
   "outputs": [],
   "source": [
    "print(bc_results.swaplevel(0,1,axis=1).npmi_rank.mean(axis=1)[bc_genes].mean(),\n",
    "      bc_results.swaplevel(0,1,axis=1).chi2_rank.mean(axis=1)[bc_genes].mean(),\n",
    "      bc_results.swaplevel(0,1,axis=1).ll_rank.mean(axis=1)[bc_genes].mean()\n",
    "     )"
   ]
  },
  {
   "cell_type": "code",
   "execution_count": null,
   "metadata": {
    "collapsed": true
   },
   "outputs": [],
   "source": [
    "uids = gene_uid[gene_uid.gd_freq>2].uid.unique()"
   ]
  },
  {
   "cell_type": "code",
   "execution_count": null,
   "metadata": {
    "collapsed": true
   },
   "outputs": [],
   "source": [
    "random_mesh_list = np.random.choice(uids,(3000,17))"
   ]
  },
  {
   "cell_type": "code",
   "execution_count": null,
   "metadata": {
    "collapsed": true
   },
   "outputs": [],
   "source": [
    "random_mesh_list_w_children = []\n",
    "for i,rml in enumerate(random_mesh_list):\n",
    "    rml_tns = uid_tn[uid_tn.uid.isin(rml)].tn.values\n",
    "    random_mesh_list_w_children.append(list(rml)+\n",
    "                                       list(db.medline.descs.distinct(\"uid\",{\"ancestors\":{\"$in\":list(rml_tns)}})))"
   ]
  },
  {
   "cell_type": "code",
   "execution_count": null,
   "metadata": {
    "collapsed": true
   },
   "outputs": [],
   "source": [
    "searchable_gene_uid = gene_uid[(gene_uid.gd_freq>2) \n",
    "                               & (gene_uid.uid.isin(uids))].set_index(\"uid\",drop=False)"
   ]
  },
  {
   "cell_type": "code",
   "execution_count": null,
   "metadata": {
    "collapsed": true,
    "scrolled": true
   },
   "outputs": [],
   "source": [
    "dfs = []\n",
    "while len(dfs)<10000:\n",
    "    rml = list(np.random.choice(uids,17))\n",
    "    rml_tns = uid_tn[uid_tn.uid.isin(rml)].tn.values\n",
    "    rml+= list(db.medline.descs.distinct(\"uid\",{\"ancestors\":{\"$in\":list(rml_tns)}}))\n",
    "    try:\n",
    "        df = searchable_gene_uid.loc[rml].reset_index(drop=True).pivot(index=\"gene_id\",\n",
    "                                                                             columns=\"uid\")\n",
    "#         .npmi.fillna(0.0)\n",
    "#         if len(set(df.index.values)&set(bc_genes))/len(bc_genes)>=0.8:\n",
    "        dfs.append(df)\n",
    "        print(\"dfs: \",len(dfs))\n",
    "    except:\n",
    "        pass"
   ]
  },
  {
   "cell_type": "code",
   "execution_count": null,
   "metadata": {
    "collapsed": true
   },
   "outputs": [],
   "source": [
    "bc_df = searchable_gene_uid.loc[bc_uids].reset_index(drop=True)\n",
    "bc_df = bc_df[bc_df.gene_id.isnull()==False].drop_duplicates().pivot(\n",
    "                                                                    index=\"gene_id\",columns=\"uid\",values=\"npmi\")"
   ]
  },
  {
   "cell_type": "code",
   "execution_count": null,
   "metadata": {
    "collapsed": true
   },
   "outputs": [],
   "source": [
    "for c in bc_df:\n",
    "    bc_df[c].update(pd.Series(index=bc_df[c][bc_df[c]<0.0].index,data=0.0))\n",
    "bc_rank = bc_df.rank(ascending=False,\n",
    "        na_option=\"bottom\").loc[bc_genes].mean().mean()/len(bc_df.index.unique())"
   ]
  },
  {
   "cell_type": "code",
   "execution_count": null,
   "metadata": {
    "collapsed": true
   },
   "outputs": [],
   "source": [
    "random_mesh_ranks = []\n",
    "for df in dfs:\n",
    "#     for c in df:\n",
    "#         df[c].update(pd.Series(index=df[c][df[c]<0.0].index,data=0.0))\n",
    "    ranks = df.rank(na_option=\"bottom\")\n",
    "    random_mesh_ranks.append(((ranks.loc[bc_genes].mean().mean())/len(ranks.index.unique())))"
   ]
  },
  {
   "cell_type": "code",
   "execution_count": null,
   "metadata": {
    "collapsed": true
   },
   "outputs": [],
   "source": [
    "pd.Series(random_mesh_ranks).hist(label=\"Random MeSH Terms\")\n",
    "plt.axvline(bc_rank,c=\"r\",label=\"BC MeSH Terms\")\n",
    "plt.legend(loc=\"upper right\")\n",
    "plt.xlim(0.4,0.6)\n",
    "plt.title(\"Query Performance of Manually Selected MeSH Terms\")\n",
    "plt.xlabel(\"Average Rank (scaled to number of genes retrieved)\")\n",
    "plt.ylabel(\"Frequency\")"
   ]
  },
  {
   "cell_type": "code",
   "execution_count": null,
   "metadata": {
    "collapsed": true
   },
   "outputs": [],
   "source": [
    "percentileofscore(random_mesh_ranks,bc_rank)"
   ]
  },
  {
   "cell_type": "code",
   "execution_count": null,
   "metadata": {
    "collapsed": true
   },
   "outputs": [],
   "source": [
    "bc_gwas_genes = pd.read_table(\"../data/SSI/BC_GWAS_genes.txt\")"
   ]
  },
  {
   "cell_type": "code",
   "execution_count": null,
   "metadata": {
    "collapsed": true
   },
   "outputs": [],
   "source": [
    "bc_gwas_genes = bc_gwas_genes[bc_gwas_genes.Species==\"Homo sapiens\"].copy()"
   ]
  },
  {
   "cell_type": "code",
   "execution_count": null,
   "metadata": {
    "collapsed": true
   },
   "outputs": [],
   "source": [
    "bc_gwas_genes = bc_gwas_genes.To.unique()"
   ]
  },
  {
   "cell_type": "code",
   "execution_count": null,
   "metadata": {
    "collapsed": true
   },
   "outputs": [],
   "source": [
    "bc_df.rank(ascending=False,\n",
    "        na_option=\"bottom\").loc[bc_gwas_genes].mean().mean()/len(bc_df.index.unique())"
   ]
  },
  {
   "cell_type": "code",
   "execution_count": null,
   "metadata": {
    "collapsed": true
   },
   "outputs": [],
   "source": [
    "set(bc_gwas_genes) & set(bc_genes)"
   ]
  },
  {
   "cell_type": "code",
   "execution_count": null,
   "metadata": {
    "collapsed": true
   },
   "outputs": [],
   "source": [
    "len(bc_gwas_genes),len(bc_genes),len(set(bc_gwas_genes) | set(bc_genes))"
   ]
  },
  {
   "cell_type": "code",
   "execution_count": null,
   "metadata": {
    "collapsed": true
   },
   "outputs": [],
   "source": [
    "import pickle\n",
    "with open(\"../data/SSI/bc_uids.p\",\"wb\") as f:\n",
    "    pickle.dump(bc_uids,f)"
   ]
  },
  {
   "cell_type": "code",
   "execution_count": 96,
   "metadata": {
    "collapsed": true
   },
   "outputs": [],
   "source": [
    "to_export = bc_results.swaplevel(0,1,axis=1).npmi_rank.copy()[[\"D009389\",\"D018919\",\"D017209\",\"D002453\",\"D057890\",\"D004249\",\"D004260\",\"D013006\",\"D002470\",\"D007107\",\n",
    "    \"D007249\",\"D001940\",\"D001941\",\"D018384\",\"D049109\",\"D012739\",\"D015262\"]]"
   ]
  },
  {
   "cell_type": "code",
   "execution_count": 97,
   "metadata": {
    "collapsed": true
   },
   "outputs": [],
   "source": [
    "to_export.columns = pd.MultiIndex.from_tuples([(uid_name[x],x) for x in to_export.columns],names=[\"name\",\"uid\"])"
   ]
  },
  {
   "cell_type": "code",
   "execution_count": 98,
   "metadata": {
    "collapsed": true
   },
   "outputs": [],
   "source": [
    "to_export.index = pd.MultiIndex.from_tuples([(x,dict(db.genes.find_one({\"gene_id\":x}))[\"symbol\"]) if x!=401388 else (7979,\"SEM1\") for x in to_export.index],names=[\"gene_id\",\"symbol\"])"
   ]
  },
  {
   "cell_type": "code",
   "execution_count": 100,
   "metadata": {
    "collapsed": true
   },
   "outputs": [],
   "source": [
    "to_export.to_csv(\"bc_results.csv\")"
   ]
  },
  {
   "cell_type": "code",
   "execution_count": 218,
   "metadata": {},
   "outputs": [
    {
     "data": {
      "text/plain": [
       "14811"
      ]
     },
     "execution_count": 218,
     "metadata": {},
     "output_type": "execute_result"
    }
   ],
   "source": [
    "set(bc_genes)|set(bc_results.index)"
   ]
  },
  {
   "cell_type": "code",
   "execution_count": 237,
   "metadata": {
    "collapsed": true
   },
   "outputs": [],
   "source": [
    "bc_results_genes = set()\n",
    "for col in bc_results.swaplevel(0,1,axis=1).npmi:\n",
    "    for g in bc_results[col][bc_results[col].npmi>0.0].index:\n",
    "        bc_results_genes.add(g)"
   ]
  },
  {
   "cell_type": "code",
   "execution_count": 241,
   "metadata": {},
   "outputs": [
    {
     "data": {
      "text/plain": [
       "{148, 1812, 3361, 3362, 6531}"
      ]
     },
     "execution_count": 241,
     "metadata": {},
     "output_type": "execute_result"
    }
   ],
   "source": [
    "set(bc_genes) - bc_results_genes"
   ]
  },
  {
   "cell_type": "code",
   "execution_count": 242,
   "metadata": {},
   "outputs": [
    {
     "data": {
      "text/plain": [
       "282"
      ]
     },
     "execution_count": 242,
     "metadata": {},
     "output_type": "execute_result"
    }
   ],
   "source": [
    "len(bc_genes)-5"
   ]
  },
  {
   "cell_type": "code",
   "execution_count": 308,
   "metadata": {},
   "outputs": [
    {
     "data": {
      "text/html": [
       "<div>\n",
       "<style>\n",
       "    .dataframe thead tr:only-child th {\n",
       "        text-align: right;\n",
       "    }\n",
       "\n",
       "    .dataframe thead th {\n",
       "        text-align: left;\n",
       "    }\n",
       "\n",
       "    .dataframe tbody tr th {\n",
       "        vertical-align: top;\n",
       "    }\n",
       "</style>\n",
       "<table border=\"1\" class=\"dataframe\">\n",
       "  <thead>\n",
       "    <tr style=\"text-align: right;\">\n",
       "      <th></th>\n",
       "      <th>gd_freq</th>\n",
       "      <th>gene_id</th>\n",
       "      <th>uid</th>\n",
       "      <th>g_freq</th>\n",
       "      <th>d_freq</th>\n",
       "      <th>pmi</th>\n",
       "      <th>npmi</th>\n",
       "    </tr>\n",
       "  </thead>\n",
       "  <tbody>\n",
       "    <tr>\n",
       "      <th>7620</th>\n",
       "      <td>4</td>\n",
       "      <td>6531.0</td>\n",
       "      <td>D000071158</td>\n",
       "      <td>21306</td>\n",
       "      <td>2113</td>\n",
       "      <td>2.349784</td>\n",
       "      <td>0.098839</td>\n",
       "    </tr>\n",
       "    <tr>\n",
       "      <th>9290</th>\n",
       "      <td>4</td>\n",
       "      <td>6531.0</td>\n",
       "      <td>D000071679</td>\n",
       "      <td>21306</td>\n",
       "      <td>7605</td>\n",
       "      <td>0.502128</td>\n",
       "      <td>0.021121</td>\n",
       "    </tr>\n",
       "    <tr>\n",
       "      <th>53650</th>\n",
       "      <td>4</td>\n",
       "      <td>6531.0</td>\n",
       "      <td>D000111</td>\n",
       "      <td>21306</td>\n",
       "      <td>4766</td>\n",
       "      <td>1.176297</td>\n",
       "      <td>0.049479</td>\n",
       "    </tr>\n",
       "    <tr>\n",
       "      <th>59783</th>\n",
       "      <td>11</td>\n",
       "      <td>6531.0</td>\n",
       "      <td>D000200</td>\n",
       "      <td>21306</td>\n",
       "      <td>5081</td>\n",
       "      <td>2.543396</td>\n",
       "      <td>0.113980</td>\n",
       "    </tr>\n",
       "    <tr>\n",
       "      <th>61543</th>\n",
       "      <td>4</td>\n",
       "      <td>6531.0</td>\n",
       "      <td>D000208</td>\n",
       "      <td>21306</td>\n",
       "      <td>7638</td>\n",
       "      <td>0.495881</td>\n",
       "      <td>0.020858</td>\n",
       "    </tr>\n",
       "    <tr>\n",
       "      <th>121702</th>\n",
       "      <td>197</td>\n",
       "      <td>6531.0</td>\n",
       "      <td>D000293</td>\n",
       "      <td>21306</td>\n",
       "      <td>86023</td>\n",
       "      <td>2.624478</td>\n",
       "      <td>0.144585</td>\n",
       "    </tr>\n",
       "    <tr>\n",
       "      <th>138814</th>\n",
       "      <td>301</td>\n",
       "      <td>6531.0</td>\n",
       "      <td>D000328</td>\n",
       "      <td>21306</td>\n",
       "      <td>415345</td>\n",
       "      <td>0.964530</td>\n",
       "      <td>0.054990</td>\n",
       "    </tr>\n",
       "    <tr>\n",
       "      <th>155486</th>\n",
       "      <td>27</td>\n",
       "      <td>6531.0</td>\n",
       "      <td>D000367</td>\n",
       "      <td>21306</td>\n",
       "      <td>37252</td>\n",
       "      <td>0.964718</td>\n",
       "      <td>0.045898</td>\n",
       "    </tr>\n",
       "    <tr>\n",
       "      <th>166008</th>\n",
       "      <td>98</td>\n",
       "      <td>6531.0</td>\n",
       "      <td>D000368</td>\n",
       "      <td>21306</td>\n",
       "      <td>202931</td>\n",
       "      <td>0.378941</td>\n",
       "      <td>0.019779</td>\n",
       "    </tr>\n",
       "    <tr>\n",
       "      <th>179836</th>\n",
       "      <td>37</td>\n",
       "      <td>6531.0</td>\n",
       "      <td>D000369</td>\n",
       "      <td>21306</td>\n",
       "      <td>70376</td>\n",
       "      <td>0.501518</td>\n",
       "      <td>0.024388</td>\n",
       "    </tr>\n",
       "    <tr>\n",
       "      <th>185344</th>\n",
       "      <td>8</td>\n",
       "      <td>6531.0</td>\n",
       "      <td>D000374</td>\n",
       "      <td>21306</td>\n",
       "      <td>1139</td>\n",
       "      <td>4.241309</td>\n",
       "      <td>0.186236</td>\n",
       "    </tr>\n",
       "    <tr>\n",
       "      <th>188866</th>\n",
       "      <td>25</td>\n",
       "      <td>6531.0</td>\n",
       "      <td>D000375</td>\n",
       "      <td>21306</td>\n",
       "      <td>39515</td>\n",
       "      <td>0.768604</td>\n",
       "      <td>0.036375</td>\n",
       "    </tr>\n",
       "    <tr>\n",
       "      <th>196618</th>\n",
       "      <td>9</td>\n",
       "      <td>6531.0</td>\n",
       "      <td>D000409</td>\n",
       "      <td>21306</td>\n",
       "      <td>7742</td>\n",
       "      <td>1.646295</td>\n",
       "      <td>0.072832</td>\n",
       "    </tr>\n",
       "    <tr>\n",
       "      <th>205438</th>\n",
       "      <td>9</td>\n",
       "      <td>6531.0</td>\n",
       "      <td>D000431</td>\n",
       "      <td>21306</td>\n",
       "      <td>8419</td>\n",
       "      <td>1.525353</td>\n",
       "      <td>0.067482</td>\n",
       "    </tr>\n",
       "    <tr>\n",
       "      <th>236605</th>\n",
       "      <td>151</td>\n",
       "      <td>6531.0</td>\n",
       "      <td>D000483</td>\n",
       "      <td>21306</td>\n",
       "      <td>100717</td>\n",
       "      <td>2.013318</td>\n",
       "      <td>0.108620</td>\n",
       "    </tr>\n",
       "    <tr>\n",
       "      <th>248594</th>\n",
       "      <td>5</td>\n",
       "      <td>6531.0</td>\n",
       "      <td>D000494</td>\n",
       "      <td>21306</td>\n",
       "      <td>3150</td>\n",
       "      <td>2.095653</td>\n",
       "      <td>0.089360</td>\n",
       "    </tr>\n",
       "    <tr>\n",
       "      <th>253971</th>\n",
       "      <td>7</td>\n",
       "      <td>6531.0</td>\n",
       "      <td>D000544</td>\n",
       "      <td>21306</td>\n",
       "      <td>18837</td>\n",
       "      <td>0.000934</td>\n",
       "      <td>0.000041</td>\n",
       "    </tr>\n",
       "    <tr>\n",
       "      <th>287488</th>\n",
       "      <td>54</td>\n",
       "      <td>6531.0</td>\n",
       "      <td>D000661</td>\n",
       "      <td>21306</td>\n",
       "      <td>1280</td>\n",
       "      <td>6.827820</td>\n",
       "      <td>0.341068</td>\n",
       "    </tr>\n",
       "    <tr>\n",
       "      <th>288810</th>\n",
       "      <td>6</td>\n",
       "      <td>6531.0</td>\n",
       "      <td>D000679</td>\n",
       "      <td>21306</td>\n",
       "      <td>4247</td>\n",
       "      <td>1.927595</td>\n",
       "      <td>0.083126</td>\n",
       "    </tr>\n",
       "    <tr>\n",
       "      <th>300943</th>\n",
       "      <td>53</td>\n",
       "      <td>6531.0</td>\n",
       "      <td>D000697</td>\n",
       "      <td>21306</td>\n",
       "      <td>2179</td>\n",
       "      <td>6.033331</td>\n",
       "      <td>0.300976</td>\n",
       "    </tr>\n",
       "    <tr>\n",
       "      <th>304385</th>\n",
       "      <td>74</td>\n",
       "      <td>6531.0</td>\n",
       "      <td>D000704</td>\n",
       "      <td>21306</td>\n",
       "      <td>36283</td>\n",
       "      <td>2.457308</td>\n",
       "      <td>0.125601</td>\n",
       "    </tr>\n",
       "    <tr>\n",
       "      <th>346295</th>\n",
       "      <td>30</td>\n",
       "      <td>6531.0</td>\n",
       "      <td>D000831</td>\n",
       "      <td>21306</td>\n",
       "      <td>46900</td>\n",
       "      <td>0.784451</td>\n",
       "      <td>0.037593</td>\n",
       "    </tr>\n",
       "    <tr>\n",
       "      <th>401308</th>\n",
       "      <td>8</td>\n",
       "      <td>6531.0</td>\n",
       "      <td>D000928</td>\n",
       "      <td>21306</td>\n",
       "      <td>2889</td>\n",
       "      <td>2.898506</td>\n",
       "      <td>0.127274</td>\n",
       "    </tr>\n",
       "    <tr>\n",
       "      <th>436529</th>\n",
       "      <td>5</td>\n",
       "      <td>6531.0</td>\n",
       "      <td>D000978</td>\n",
       "      <td>21306</td>\n",
       "      <td>832</td>\n",
       "      <td>4.016349</td>\n",
       "      <td>0.171259</td>\n",
       "    </tr>\n",
       "    <tr>\n",
       "      <th>437710</th>\n",
       "      <td>9</td>\n",
       "      <td>6531.0</td>\n",
       "      <td>D001007</td>\n",
       "      <td>21306</td>\n",
       "      <td>3935</td>\n",
       "      <td>2.622638</td>\n",
       "      <td>0.116026</td>\n",
       "    </tr>\n",
       "    <tr>\n",
       "      <th>439039</th>\n",
       "      <td>5</td>\n",
       "      <td>6531.0</td>\n",
       "      <td>D001008</td>\n",
       "      <td>21306</td>\n",
       "      <td>1574</td>\n",
       "      <td>3.096569</td>\n",
       "      <td>0.132039</td>\n",
       "    </tr>\n",
       "    <tr>\n",
       "      <th>454392</th>\n",
       "      <td>4</td>\n",
       "      <td>6531.0</td>\n",
       "      <td>D001068</td>\n",
       "      <td>21306</td>\n",
       "      <td>941</td>\n",
       "      <td>3.516810</td>\n",
       "      <td>0.147928</td>\n",
       "    </tr>\n",
       "    <tr>\n",
       "      <th>495410</th>\n",
       "      <td>4</td>\n",
       "      <td>6531.0</td>\n",
       "      <td>D001224</td>\n",
       "      <td>21306</td>\n",
       "      <td>4381</td>\n",
       "      <td>1.297816</td>\n",
       "      <td>0.054590</td>\n",
       "    </tr>\n",
       "    <tr>\n",
       "      <th>516305</th>\n",
       "      <td>29</td>\n",
       "      <td>6531.0</td>\n",
       "      <td>D001288</td>\n",
       "      <td>21306</td>\n",
       "      <td>603</td>\n",
       "      <td>7.016827</td>\n",
       "      <td>0.335479</td>\n",
       "    </tr>\n",
       "    <tr>\n",
       "      <th>518110</th>\n",
       "      <td>5</td>\n",
       "      <td>6531.0</td>\n",
       "      <td>D001321</td>\n",
       "      <td>21306</td>\n",
       "      <td>5819</td>\n",
       "      <td>1.210233</td>\n",
       "      <td>0.051605</td>\n",
       "    </tr>\n",
       "    <tr>\n",
       "      <th>...</th>\n",
       "      <td>...</td>\n",
       "      <td>...</td>\n",
       "      <td>...</td>\n",
       "      <td>...</td>\n",
       "      <td>...</td>\n",
       "      <td>...</td>\n",
       "      <td>...</td>\n",
       "    </tr>\n",
       "    <tr>\n",
       "      <th>13654928</th>\n",
       "      <td>4</td>\n",
       "      <td>6531.0</td>\n",
       "      <td>D010287</td>\n",
       "      <td>21306</td>\n",
       "      <td>668</td>\n",
       "      <td>4.011156</td>\n",
       "      <td>0.168721</td>\n",
       "    </tr>\n",
       "    <tr>\n",
       "      <th>13655466</th>\n",
       "      <td>3</td>\n",
       "      <td>6531.0</td>\n",
       "      <td>D010554</td>\n",
       "      <td>21306</td>\n",
       "      <td>497</td>\n",
       "      <td>4.022721</td>\n",
       "      <td>0.166305</td>\n",
       "    </tr>\n",
       "    <tr>\n",
       "      <th>13656028</th>\n",
       "      <td>8</td>\n",
       "      <td>6531.0</td>\n",
       "      <td>D012054</td>\n",
       "      <td>21306</td>\n",
       "      <td>1922</td>\n",
       "      <td>3.486468</td>\n",
       "      <td>0.153091</td>\n",
       "    </tr>\n",
       "    <tr>\n",
       "      <th>13656153</th>\n",
       "      <td>12</td>\n",
       "      <td>6531.0</td>\n",
       "      <td>D012309</td>\n",
       "      <td>21306</td>\n",
       "      <td>262</td>\n",
       "      <td>6.946400</td>\n",
       "      <td>0.313058</td>\n",
       "    </tr>\n",
       "    <tr>\n",
       "      <th>13660541</th>\n",
       "      <td>6</td>\n",
       "      <td>6531.0</td>\n",
       "      <td>D016487</td>\n",
       "      <td>21306</td>\n",
       "      <td>118</td>\n",
       "      <td>7.097180</td>\n",
       "      <td>0.306060</td>\n",
       "    </tr>\n",
       "    <tr>\n",
       "      <th>13704545</th>\n",
       "      <td>4</td>\n",
       "      <td>6531.0</td>\n",
       "      <td>D014179</td>\n",
       "      <td>21306</td>\n",
       "      <td>3671</td>\n",
       "      <td>1.552903</td>\n",
       "      <td>0.065320</td>\n",
       "    </tr>\n",
       "    <tr>\n",
       "      <th>13721671</th>\n",
       "      <td>6</td>\n",
       "      <td>6531.0</td>\n",
       "      <td>D006533</td>\n",
       "      <td>21306</td>\n",
       "      <td>241</td>\n",
       "      <td>6.066934</td>\n",
       "      <td>0.261631</td>\n",
       "    </tr>\n",
       "    <tr>\n",
       "      <th>13737970</th>\n",
       "      <td>6</td>\n",
       "      <td>6531.0</td>\n",
       "      <td>D000430</td>\n",
       "      <td>21306</td>\n",
       "      <td>59</td>\n",
       "      <td>8.097180</td>\n",
       "      <td>0.349184</td>\n",
       "    </tr>\n",
       "    <tr>\n",
       "      <th>13738539</th>\n",
       "      <td>7</td>\n",
       "      <td>6531.0</td>\n",
       "      <td>D001058</td>\n",
       "      <td>21306</td>\n",
       "      <td>346</td>\n",
       "      <td>5.767587</td>\n",
       "      <td>0.251131</td>\n",
       "    </tr>\n",
       "    <tr>\n",
       "      <th>13738992</th>\n",
       "      <td>5</td>\n",
       "      <td>6531.0</td>\n",
       "      <td>D001590</td>\n",
       "      <td>21306</td>\n",
       "      <td>28</td>\n",
       "      <td>8.909434</td>\n",
       "      <td>0.379902</td>\n",
       "    </tr>\n",
       "    <tr>\n",
       "      <th>13739106</th>\n",
       "      <td>3</td>\n",
       "      <td>6531.0</td>\n",
       "      <td>D001883</td>\n",
       "      <td>21306</td>\n",
       "      <td>70</td>\n",
       "      <td>6.850540</td>\n",
       "      <td>0.283210</td>\n",
       "    </tr>\n",
       "    <tr>\n",
       "      <th>13739319</th>\n",
       "      <td>3</td>\n",
       "      <td>6531.0</td>\n",
       "      <td>D002032</td>\n",
       "      <td>21306</td>\n",
       "      <td>289</td>\n",
       "      <td>4.804898</td>\n",
       "      <td>0.198641</td>\n",
       "    </tr>\n",
       "    <tr>\n",
       "      <th>13739706</th>\n",
       "      <td>4</td>\n",
       "      <td>6531.0</td>\n",
       "      <td>D002649</td>\n",
       "      <td>21306</td>\n",
       "      <td>267</td>\n",
       "      <td>5.334165</td>\n",
       "      <td>0.224371</td>\n",
       "    </tr>\n",
       "    <tr>\n",
       "      <th>13741103</th>\n",
       "      <td>3</td>\n",
       "      <td>6531.0</td>\n",
       "      <td>D005133</td>\n",
       "      <td>21306</td>\n",
       "      <td>306</td>\n",
       "      <td>4.722435</td>\n",
       "      <td>0.195232</td>\n",
       "    </tr>\n",
       "    <tr>\n",
       "      <th>13741276</th>\n",
       "      <td>4</td>\n",
       "      <td>6531.0</td>\n",
       "      <td>D005715</td>\n",
       "      <td>21306</td>\n",
       "      <td>82</td>\n",
       "      <td>7.037309</td>\n",
       "      <td>0.296011</td>\n",
       "    </tr>\n",
       "    <tr>\n",
       "      <th>13742513</th>\n",
       "      <td>3</td>\n",
       "      <td>6531.0</td>\n",
       "      <td>D007604</td>\n",
       "      <td>21306</td>\n",
       "      <td>40</td>\n",
       "      <td>7.657895</td>\n",
       "      <td>0.316588</td>\n",
       "    </tr>\n",
       "    <tr>\n",
       "      <th>13743281</th>\n",
       "      <td>6</td>\n",
       "      <td>6531.0</td>\n",
       "      <td>D008454</td>\n",
       "      <td>21306</td>\n",
       "      <td>42</td>\n",
       "      <td>8.587506</td>\n",
       "      <td>0.370329</td>\n",
       "    </tr>\n",
       "    <tr>\n",
       "      <th>13743323</th>\n",
       "      <td>5</td>\n",
       "      <td>6531.0</td>\n",
       "      <td>D009034</td>\n",
       "      <td>21306</td>\n",
       "      <td>570</td>\n",
       "      <td>4.561971</td>\n",
       "      <td>0.194525</td>\n",
       "    </tr>\n",
       "    <tr>\n",
       "      <th>13748885</th>\n",
       "      <td>8</td>\n",
       "      <td>6531.0</td>\n",
       "      <td>D019257</td>\n",
       "      <td>21306</td>\n",
       "      <td>269</td>\n",
       "      <td>6.323398</td>\n",
       "      <td>0.277661</td>\n",
       "    </tr>\n",
       "    <tr>\n",
       "      <th>13749193</th>\n",
       "      <td>10</td>\n",
       "      <td>6531.0</td>\n",
       "      <td>D019958</td>\n",
       "      <td>21306</td>\n",
       "      <td>2049</td>\n",
       "      <td>3.716085</td>\n",
       "      <td>0.165513</td>\n",
       "    </tr>\n",
       "    <tr>\n",
       "      <th>13793814</th>\n",
       "      <td>4</td>\n",
       "      <td>6531.0</td>\n",
       "      <td>D013469</td>\n",
       "      <td>21306</td>\n",
       "      <td>193</td>\n",
       "      <td>5.802404</td>\n",
       "      <td>0.244067</td>\n",
       "    </tr>\n",
       "    <tr>\n",
       "      <th>13795390</th>\n",
       "      <td>8</td>\n",
       "      <td>6531.0</td>\n",
       "      <td>D016642</td>\n",
       "      <td>21306</td>\n",
       "      <td>429</td>\n",
       "      <td>5.650027</td>\n",
       "      <td>0.248093</td>\n",
       "    </tr>\n",
       "    <tr>\n",
       "      <th>13817129</th>\n",
       "      <td>3</td>\n",
       "      <td>6531.0</td>\n",
       "      <td>D005717</td>\n",
       "      <td>21306</td>\n",
       "      <td>24</td>\n",
       "      <td>8.394861</td>\n",
       "      <td>0.347055</td>\n",
       "    </tr>\n",
       "    <tr>\n",
       "      <th>13868289</th>\n",
       "      <td>4</td>\n",
       "      <td>6531.0</td>\n",
       "      <td>D012055</td>\n",
       "      <td>21306</td>\n",
       "      <td>132</td>\n",
       "      <td>6.350467</td>\n",
       "      <td>0.267120</td>\n",
       "    </tr>\n",
       "    <tr>\n",
       "      <th>13914705</th>\n",
       "      <td>3</td>\n",
       "      <td>6531.0</td>\n",
       "      <td>D009627</td>\n",
       "      <td>21306</td>\n",
       "      <td>33</td>\n",
       "      <td>7.935429</td>\n",
       "      <td>0.328061</td>\n",
       "    </tr>\n",
       "    <tr>\n",
       "      <th>13925020</th>\n",
       "      <td>12</td>\n",
       "      <td>6531.0</td>\n",
       "      <td>D050492</td>\n",
       "      <td>21306</td>\n",
       "      <td>1079</td>\n",
       "      <td>4.904344</td>\n",
       "      <td>0.221027</td>\n",
       "    </tr>\n",
       "    <tr>\n",
       "      <th>13927854</th>\n",
       "      <td>3</td>\n",
       "      <td>6531.0</td>\n",
       "      <td>D015835</td>\n",
       "      <td>21306</td>\n",
       "      <td>854</td>\n",
       "      <td>3.241731</td>\n",
       "      <td>0.134017</td>\n",
       "    </tr>\n",
       "    <tr>\n",
       "      <th>13948925</th>\n",
       "      <td>3</td>\n",
       "      <td>6531.0</td>\n",
       "      <td>D019805</td>\n",
       "      <td>21306</td>\n",
       "      <td>48</td>\n",
       "      <td>7.394861</td>\n",
       "      <td>0.305713</td>\n",
       "    </tr>\n",
       "    <tr>\n",
       "      <th>13957914</th>\n",
       "      <td>6</td>\n",
       "      <td>6531.0</td>\n",
       "      <td>D009662</td>\n",
       "      <td>21306</td>\n",
       "      <td>23</td>\n",
       "      <td>9.456261</td>\n",
       "      <td>0.407793</td>\n",
       "    </tr>\n",
       "    <tr>\n",
       "      <th>13960347</th>\n",
       "      <td>4</td>\n",
       "      <td>6531.0</td>\n",
       "      <td>D007174</td>\n",
       "      <td>21306</td>\n",
       "      <td>146</td>\n",
       "      <td>6.205036</td>\n",
       "      <td>0.261003</td>\n",
       "    </tr>\n",
       "  </tbody>\n",
       "</table>\n",
       "<p>556 rows × 7 columns</p>\n",
       "</div>"
      ],
      "text/plain": [
       "          gd_freq  gene_id         uid  g_freq  d_freq       pmi      npmi\n",
       "7620            4   6531.0  D000071158   21306    2113  2.349784  0.098839\n",
       "9290            4   6531.0  D000071679   21306    7605  0.502128  0.021121\n",
       "53650           4   6531.0     D000111   21306    4766  1.176297  0.049479\n",
       "59783          11   6531.0     D000200   21306    5081  2.543396  0.113980\n",
       "61543           4   6531.0     D000208   21306    7638  0.495881  0.020858\n",
       "121702        197   6531.0     D000293   21306   86023  2.624478  0.144585\n",
       "138814        301   6531.0     D000328   21306  415345  0.964530  0.054990\n",
       "155486         27   6531.0     D000367   21306   37252  0.964718  0.045898\n",
       "166008         98   6531.0     D000368   21306  202931  0.378941  0.019779\n",
       "179836         37   6531.0     D000369   21306   70376  0.501518  0.024388\n",
       "185344          8   6531.0     D000374   21306    1139  4.241309  0.186236\n",
       "188866         25   6531.0     D000375   21306   39515  0.768604  0.036375\n",
       "196618          9   6531.0     D000409   21306    7742  1.646295  0.072832\n",
       "205438          9   6531.0     D000431   21306    8419  1.525353  0.067482\n",
       "236605        151   6531.0     D000483   21306  100717  2.013318  0.108620\n",
       "248594          5   6531.0     D000494   21306    3150  2.095653  0.089360\n",
       "253971          7   6531.0     D000544   21306   18837  0.000934  0.000041\n",
       "287488         54   6531.0     D000661   21306    1280  6.827820  0.341068\n",
       "288810          6   6531.0     D000679   21306    4247  1.927595  0.083126\n",
       "300943         53   6531.0     D000697   21306    2179  6.033331  0.300976\n",
       "304385         74   6531.0     D000704   21306   36283  2.457308  0.125601\n",
       "346295         30   6531.0     D000831   21306   46900  0.784451  0.037593\n",
       "401308          8   6531.0     D000928   21306    2889  2.898506  0.127274\n",
       "436529          5   6531.0     D000978   21306     832  4.016349  0.171259\n",
       "437710          9   6531.0     D001007   21306    3935  2.622638  0.116026\n",
       "439039          5   6531.0     D001008   21306    1574  3.096569  0.132039\n",
       "454392          4   6531.0     D001068   21306     941  3.516810  0.147928\n",
       "495410          4   6531.0     D001224   21306    4381  1.297816  0.054590\n",
       "516305         29   6531.0     D001288   21306     603  7.016827  0.335479\n",
       "518110          5   6531.0     D001321   21306    5819  1.210233  0.051605\n",
       "...           ...      ...         ...     ...     ...       ...       ...\n",
       "13654928        4   6531.0     D010287   21306     668  4.011156  0.168721\n",
       "13655466        3   6531.0     D010554   21306     497  4.022721  0.166305\n",
       "13656028        8   6531.0     D012054   21306    1922  3.486468  0.153091\n",
       "13656153       12   6531.0     D012309   21306     262  6.946400  0.313058\n",
       "13660541        6   6531.0     D016487   21306     118  7.097180  0.306060\n",
       "13704545        4   6531.0     D014179   21306    3671  1.552903  0.065320\n",
       "13721671        6   6531.0     D006533   21306     241  6.066934  0.261631\n",
       "13737970        6   6531.0     D000430   21306      59  8.097180  0.349184\n",
       "13738539        7   6531.0     D001058   21306     346  5.767587  0.251131\n",
       "13738992        5   6531.0     D001590   21306      28  8.909434  0.379902\n",
       "13739106        3   6531.0     D001883   21306      70  6.850540  0.283210\n",
       "13739319        3   6531.0     D002032   21306     289  4.804898  0.198641\n",
       "13739706        4   6531.0     D002649   21306     267  5.334165  0.224371\n",
       "13741103        3   6531.0     D005133   21306     306  4.722435  0.195232\n",
       "13741276        4   6531.0     D005715   21306      82  7.037309  0.296011\n",
       "13742513        3   6531.0     D007604   21306      40  7.657895  0.316588\n",
       "13743281        6   6531.0     D008454   21306      42  8.587506  0.370329\n",
       "13743323        5   6531.0     D009034   21306     570  4.561971  0.194525\n",
       "13748885        8   6531.0     D019257   21306     269  6.323398  0.277661\n",
       "13749193       10   6531.0     D019958   21306    2049  3.716085  0.165513\n",
       "13793814        4   6531.0     D013469   21306     193  5.802404  0.244067\n",
       "13795390        8   6531.0     D016642   21306     429  5.650027  0.248093\n",
       "13817129        3   6531.0     D005717   21306      24  8.394861  0.347055\n",
       "13868289        4   6531.0     D012055   21306     132  6.350467  0.267120\n",
       "13914705        3   6531.0     D009627   21306      33  7.935429  0.328061\n",
       "13925020       12   6531.0     D050492   21306    1079  4.904344  0.221027\n",
       "13927854        3   6531.0     D015835   21306     854  3.241731  0.134017\n",
       "13948925        3   6531.0     D019805   21306      48  7.394861  0.305713\n",
       "13957914        6   6531.0     D009662   21306      23  9.456261  0.407793\n",
       "13960347        4   6531.0     D007174   21306     146  6.205036  0.261003\n",
       "\n",
       "[556 rows x 7 columns]"
      ]
     },
     "execution_count": 308,
     "metadata": {},
     "output_type": "execute_result"
    }
   ],
   "source": [
    "gene_uid[(gene_uid.gene_id==6531)&(gene_uid.gd_freq>2)&(gene_uid.npmi>0.0)]"
   ]
  },
  {
   "cell_type": "code",
   "execution_count": null,
   "metadata": {
    "collapsed": true
   },
   "outputs": [],
   "source": []
  }
 ],
 "metadata": {
  "kernelspec": {
   "display_name": "Python 3",
   "language": "python",
   "name": "python3"
  },
  "language_info": {
   "codemirror_mode": {
    "name": "ipython",
    "version": 3
   },
   "file_extension": ".py",
   "mimetype": "text/x-python",
   "name": "python",
   "nbconvert_exporter": "python",
   "pygments_lexer": "ipython3",
   "version": "3.6.0"
  }
 },
 "nbformat": 4,
 "nbformat_minor": 2
}
